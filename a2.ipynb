{
 "cells": [
  {
   "cell_type": "code",
   "execution_count": 1,
   "metadata": {},
   "outputs": [],
   "source": [
    "import numpy as np\n",
    "import matplotlib.pyplot as plt\n",
    "import pandas as pd\n",
    "import gzip\n",
    "from collections import defaultdict\n",
    "import operator\n",
    "import string\n",
    "from tqdm import tqdm_notebook as tqdm\n",
    "import torch"
   ]
  },
  {
   "cell_type": "code",
   "execution_count": 2,
   "metadata": {},
   "outputs": [],
   "source": [
    "def parse(path):\n",
    "    g = open(path, 'r')\n",
    "    for l in g:\n",
    "        yield eval(l)\n",
    "\n",
    "data = list(parse(\"lthing_data/reviews.json\"))\n",
    "relationships = [l.replace(\"\\n\", \"\").split(\" \") for l in open(\"lthing_data/edges.txt\").readlines()]"
   ]
  },
  {
   "cell_type": "code",
   "execution_count": 3,
   "metadata": {},
   "outputs": [
    {
     "name": "stderr",
     "output_type": "stream",
     "text": [
      "/tmp/ipykernel_85/1724186245.py:3: TqdmDeprecationWarning: This function will be removed in tqdm==5.0.0\n",
      "Please use `tqdm.notebook.tqdm` instead of `tqdm.tqdm_notebook`\n",
      "  for d in tqdm(data):\n"
     ]
    },
    {
     "data": {
      "application/vnd.jupyter.widget-view+json": {
       "model_id": "39b32f1d5df642bb8e904231553b2392",
       "version_major": 2,
       "version_minor": 0
      },
      "text/plain": [
       "  0%|          | 0/1707070 [00:00<?, ?it/s]"
      ]
     },
     "metadata": {},
     "output_type": "display_data"
    },
    {
     "name": "stdout",
     "output_type": "stream",
     "text": [
      "{'work': '3206242', 'flags': [], 'unixtime': 1194393600, 'stars': 5.0, 'nhelpful': 0, 'time': 'Nov 7, 2007', 'comment': 'This a great book for young readers to be introduced to the world of Middle Earth. ', 'user': 'van_stef'}\n",
      "['Rodo', 'anehan']\n"
     ]
    }
   ],
   "source": [
    "data_new = []\n",
    "\n",
    "for d in tqdm(data):\n",
    "    if \"stars\" in d:\n",
    "        data_new.append(d)\n",
    "data = data_new\n",
    "\n",
    "print(data[0])\n",
    "print(relationships[0])"
   ]
  },
  {
   "cell_type": "code",
   "execution_count": 4,
   "metadata": {},
   "outputs": [
    {
     "name": "stderr",
     "output_type": "stream",
     "text": [
      "/tmp/ipykernel_85/49182011.py:6: TqdmDeprecationWarning: This function will be removed in tqdm==5.0.0\n",
      "Please use `tqdm.notebook.tqdm` instead of `tqdm.tqdm_notebook`\n",
      "  for read in tqdm(data):\n"
     ]
    },
    {
     "data": {
      "application/vnd.jupyter.widget-view+json": {
       "model_id": "87f1eb2468e84feaa6c36590ef8da9e4",
       "version_major": 2,
       "version_minor": 0
      },
      "text/plain": [
       "  0%|          | 0/1387209 [00:00<?, ?it/s]"
      ]
     },
     "metadata": {},
     "output_type": "display_data"
    },
    {
     "name": "stderr",
     "output_type": "stream",
     "text": [
      "/tmp/ipykernel_85/49182011.py:16: TqdmDeprecationWarning: This function will be removed in tqdm==5.0.0\n",
      "Please use `tqdm.notebook.tqdm` instead of `tqdm.tqdm_notebook`\n",
      "  for relationship in tqdm(relationships):\n"
     ]
    },
    {
     "data": {
      "application/vnd.jupyter.widget-view+json": {
       "model_id": "0c369c0176cb4367a948e21f6d4fdc6e",
       "version_major": 2,
       "version_minor": 0
      },
      "text/plain": [
       "  0%|          | 0/219790 [00:00<?, ?it/s]"
      ]
     },
     "metadata": {},
     "output_type": "display_data"
    }
   ],
   "source": [
    "# Data:\n",
    "userItemRating = {}\n",
    "usersPerItem = defaultdict(set) # Maps an item to the users who rated it\n",
    "itemsPerUser = defaultdict(set) # Maps a user to the items that they rated\n",
    "\n",
    "for read in tqdm(data):\n",
    "    uid, bid = read['user'], read['work']\n",
    "    if \"stars\" in read:\n",
    "        userItemRating[(uid, bid)] = read['stars']\n",
    "    usersPerItem[bid].add(uid)\n",
    "    itemsPerUser[uid].add(bid)\n",
    "    \n",
    "# Relationships:\n",
    "usersPerUser = defaultdict(set) # Maps an item to the users who rated it\n",
    "\n",
    "for relationship in tqdm(relationships):\n",
    "    u1, u2 = relationship\n",
    "    usersPerUser[u1].add(u2)\n",
    "    usersPerUser[u2].add(u1)"
   ]
  },
  {
   "cell_type": "code",
   "execution_count": 5,
   "metadata": {},
   "outputs": [],
   "source": [
    "train_split = int(0.9 * len(data))\n",
    "train = data[:train_split]\n",
    "val = data[train_split:]"
   ]
  },
  {
   "cell_type": "markdown",
   "metadata": {},
   "source": [
    "### N-Grams"
   ]
  },
  {
   "cell_type": "code",
   "execution_count": null,
   "metadata": {},
   "outputs": [
    {
     "name": "stderr",
     "output_type": "stream",
     "text": [
      "/tmp/ipykernel_85/2433671388.py:4: TqdmDeprecationWarning: This function will be removed in tqdm==5.0.0\n",
      "Please use `tqdm.notebook.tqdm` instead of `tqdm.tqdm_notebook`\n",
      "  for d in tqdm(train):\n"
     ]
    },
    {
     "data": {
      "application/vnd.jupyter.widget-view+json": {
       "model_id": "7ceb0c0cedc140a0bcc59b1ea5d6b8e8",
       "version_major": 2,
       "version_minor": 0
      },
      "text/plain": [
       "  0%|          | 0/1248488 [00:00<?, ?it/s]"
      ]
     },
     "metadata": {},
     "output_type": "display_data"
    }
   ],
   "source": [
    "unigrams = {}\n",
    "bigrams ={}\n",
    "\n",
    "for d in tqdm(train):\n",
    "    review = d[\"comment\"].lower().translate(str.maketrans('', '', string.punctuation))\n",
    "    d_unigrams = review.split()\n",
    "    d_bigrams = list(zip(d_unigrams[:-1], d_unigrams[1:]))\n",
    "    \n",
    "    for ug in d_unigrams:\n",
    "        if ug in unigrams:\n",
    "            unigrams[ug] += 1\n",
    "        else:\n",
    "            unigrams[ug] = 1\n",
    "            \n",
    "    for bg in d_bigrams:\n",
    "        if bg in bigrams:\n",
    "            bigrams[bg] += 1\n",
    "        else:\n",
    "            bigrams[bg] = 1\n",
    "            \n",
    "list_unigrams = [(k, v) for k, v in tqdm(unigrams.items())]\n",
    "list_unigrams.sort(reverse=True, key=operator.itemgetter(1))\n",
    "unigrams = [k for k, v in list_unigrams]\n",
    "ugId = dict(zip(unigrams, range(len(unigrams))))\n",
    "\n",
    "\n",
    "list_bigrams = [(k, v) for k, v in tqdm(bigrams.items())]\n",
    "list_bigrams .sort(reverse=True, key=operator.itemgetter(1))\n",
    "bigrams = [k for k, v in list_bigrams]\n",
    "bgId = dict(zip(bigrams, range(len(bigrams))))\n",
    "\n",
    "list_unigrams_bigrams = list_unigrams + list_bigrams\n",
    "list_unigrams_bigrams.sort(reverse=True, key=operator.itemgetter(1))\n",
    "unigrams_bigrams = [k for k, v in list_unigrams_bigrams]\n",
    "ugbgId = dict(zip(unigrams_bigrams, range(len(unigrams_bigrams))))"
   ]
  },
  {
   "cell_type": "markdown",
   "metadata": {},
   "source": [
    "### N-Gram Features:"
   ]
  },
  {
   "cell_type": "code",
   "execution_count": null,
   "metadata": {},
   "outputs": [],
   "source": [
    "def unigrams_feat(datum, N):\n",
    "    review = datum[\"comment\"].lower().translate(str.maketrans('', '', string.punctuation))\n",
    "    d_unigrams = review.split()\n",
    "    feat = [0] * N\n",
    "    unigrams_set = set(unigrams[:N])\n",
    "    for ug in d_unigrams:\n",
    "        if ug in unigrams_set:\n",
    "            feat[ugId[ug]] += 1\n",
    "    feat.append(1)\n",
    "    return feat\n",
    "\n",
    "def bigrams_feat(datum, N):\n",
    "    review = datum[\"comment\"].lower().translate(str.maketrans('', '', string.punctuation))\n",
    "    d_unigrams = review.split()\n",
    "    d_bigrams = list(zip(d_unigrams[:-1], d_unigrams[1:]))\n",
    "    feat = [0] * N\n",
    "    bigrams_set = set(bigrams[:N])\n",
    "    for bg in d_bigrams:\n",
    "        if bg in bigrams_set:\n",
    "            feat[bgId[bg]] += 1\n",
    "    feat.append(1)\n",
    "    return feat\n",
    "\n",
    "def unigrams_bigrams_feat(datum, N):\n",
    "    review = datum[\"comment\"].lower().translate(str.maketrans('', '', string.punctuation))\n",
    "    d_unigrams = review.split()\n",
    "    d_bigrams = list(zip(d_unigrams[:-1], d_unigrams[1:]))\n",
    "    d_unigrams_bigrams  = d_unigrams + d_bigrams\n",
    "    feat = [0] * N\n",
    "    unigrams_bigrams_set = set(unigrams_bigrams[:N])\n",
    "    for ugbg in d_unigrams_bigrams:\n",
    "        if ugbg in unigrams_bigrams_set:\n",
    "            feat[ugbgId[ugbg]] += 1\n",
    "    feat.append(1)\n",
    "    return feat\n",
    "\n",
    "def label(datum):\n",
    "    return datum[\"rating\"]"
   ]
  },
  {
   "cell_type": "markdown",
   "metadata": {},
   "source": [
    "### Relationship Features:"
   ]
  },
  {
   "cell_type": "code",
   "execution_count": null,
   "metadata": {},
   "outputs": [],
   "source": [
    "def Jaccard(s1, s2):\n",
    "    s1 = set(s1)\n",
    "    s2 = set(s2)\n",
    "    return len(s1.intersection(s2)) / len(s1.union(s2))\n",
    "\n",
    "def get_feat(datum, experiment):\n",
    "    uf, bf, ubf = experiment\n",
    "    feat = []\n",
    "    \n",
    "    if uf:\n",
    "        unigrams = unigrams_feat(datum, 2000)\n",
    "        for i in unigrams:\n",
    "            feat.append(i)\n",
    "    if bf:\n",
    "        bigrams = bigrams_feat(datum, 2000)\n",
    "        for i in bigrams:\n",
    "            feat.append(i)\n",
    "    if ubf:\n",
    "        unigrams_bigrams = unigrams_bigrams_feat(datum, 2000)\n",
    "        for i in unigrams_bigrams:\n",
    "            feat.append(i)\n",
    "            \n",
    "    return feat\n"
   ]
  },
  {
   "cell_type": "code",
   "execution_count": null,
   "metadata": {},
   "outputs": [],
   "source": [
    "from torch.utils.data import Dataset, DataLoader\n",
    "\n",
    "class ThingDataset(Dataset):\n",
    "    \"\"\"Dataset class for Argoverse\"\"\"\n",
    "    def __init__(self, d, experiment, test=False):\n",
    "        super(ThingDataset, self).__init__()\n",
    "        self.data = d\n",
    "        self.experiment = experiment\n",
    "        self.test = test\n",
    "        \n",
    "    def __len__(self):\n",
    "        return len(self.data)\n",
    "\n",
    "    def __getitem__(self, i):\n",
    "        review = self.data[i]\n",
    "        feat = get_feat(review, self.experiment)\n",
    "        \n",
    "#         if self.test:\n",
    "#             return rid, feat\n",
    "        \n",
    "        label = review[\"stars\"]\n",
    "        \n",
    "        return feat, label\n",
    "\n",
    "def my_collate(batch):\n",
    "    \"\"\" collate lists of samples into batches, create [ batch_sz x agent_sz x seq_len x feature] \"\"\"\n",
    "    feats = [scene[0] for scene in batch]\n",
    "    labels = [scene[1] for scene in batch]\n",
    "    \n",
    "    return [feats, labels]\n",
    "\n",
    "def test_collate(batch):\n",
    "    \"\"\" collate lists of samples into batches, create [ batch_sz x agent_sz x seq_len x feature] \"\"\"\n",
    "    feats = [scene[0] for scene in batch]\n",
    "    \n",
    "    return [feats]"
   ]
  },
  {
   "cell_type": "code",
   "execution_count": null,
   "metadata": {},
   "outputs": [],
   "source": [
    "import torch.nn as nn\n",
    "import torch.nn.functional as F\n",
    "import torch.optim as optim\n",
    "\n",
    "class SimilarityModel(nn.Module):\n",
    "    def __init__(self, input_vector_size):\n",
    "        super().__init__()\n",
    "        \n",
    "        # FC\n",
    "        self.fc1 = nn.Linear(input_vector_size, 4096)\n",
    "        self.fc2 = nn.Linear(4096, 8192)\n",
    "        self.fc3 = nn.Linear(8192, 4096)\n",
    "        self.fc4 = nn.Linear(4096, 2048)\n",
    "        self.fc5 = nn.Linear(2048, 1024)\n",
    "        self.fc6 = nn.Linear(1024, 512)\n",
    "        self.fc7 = nn.Linear(512, 256)\n",
    "        self.fc8 = nn.Linear(256, 1)\n",
    "        self.sig = nn.Sigmoid()\n",
    "        \n",
    "    def forward(self, x):\n",
    "        x = x.float()\n",
    "            \n",
    "        out = F.relu(self.fc1(x))\n",
    "        out = F.relu(self.fc2(out))\n",
    "        out = F.relu(self.fc3(out))\n",
    "        out = F.relu(self.fc4(out))\n",
    "        out = F.relu(self.fc5(out))\n",
    "        out = F.relu(self.fc6(out))\n",
    "        out = F.relu(self.fc7(out))\n",
    "        out = self.fc8(out)\n",
    "        \n",
    "        return out\n",
    "        "
   ]
  },
  {
   "cell_type": "code",
   "execution_count": null,
   "metadata": {},
   "outputs": [],
   "source": [
    "import torch.nn as nn\n",
    "import torch.nn.functional as F\n",
    "import torch.optim as optim\n",
    "\n",
    "class RNN(nn.Module):\n",
    "    def __init__(self, input_size=120, num_layers=2, hidden_size=256):\n",
    "        super().__init__()\n",
    "        self.hidden_size = hidden_size\n",
    "        self.num_layers = num_layers\n",
    "        \n",
    "        self.s1 = 512\n",
    "        self.s2 = 1024\n",
    "        self.s3 = 2048\n",
    "        \n",
    "        # Encoder\n",
    "        self.lstm1 = nn.LSTMCell(input_size, self.s1)\n",
    "        self.lstm2 = nn.LSTMCell(self.s1, self.s2)\n",
    "        self.lstm3 = nn.LSTMCell(self.s2, self.s3)\n",
    "        \n",
    "        # Decoder\n",
    "        self.lstm4 = nn.LSTMCell(input_size, self.s1)\n",
    "        self.lstm5 = nn.LSTMCell(self.s1, self.s2)\n",
    "        self.lstm6 = nn.LSTMCell(self.s2, self.s3)\n",
    "        \n",
    "        # FC\n",
    "        self.fc1 = nn.Linear(self.s3, 2048)\n",
    "        self.fc2 = nn.Linear(2048, 1024)\n",
    "        self.fc3 = nn.Linear(1024, 512)\n",
    "        self.fc4 = nn.Linear(512, 256)\n",
    "        self.fc5 = nn.Linear(256, 120)\n",
    "        \n",
    "    def forward(self, x, future=0):\n",
    "        x = x.float()\n",
    "        outputs = []\n",
    "        n_samples = x.size(0)\n",
    "        \n",
    "        ht = torch.zeros(n_samples, self.s1, dtype=torch.float32).to(device)\n",
    "        ct = torch.zeros(n_samples, self.s1, dtype=torch.float32).to(device)\n",
    "        ht2 = torch.zeros(n_samples, self.s2, dtype=torch.float32).to(device)\n",
    "        ct2 = torch.zeros(n_samples, self.s2, dtype=torch.float32).to(device)\n",
    "        ht3 = torch.zeros(n_samples, self.s3, dtype=torch.float32).to(device)\n",
    "        ct3 = torch.zeros(n_samples, self.s3, dtype=torch.float32).to(device)\n",
    "        for input_t in x.split(1, dim=1):\n",
    "            input_t = input_t.reshape((n_samples, 120))\n",
    "            ht, ct = self.lstm1(input_t, (ht, ct))\n",
    "            ht2, ct2 = self.lstm2(ht, (ht2, ct2))\n",
    "#             ht3, ct3 = self.lstm3(ht2, (ht3, ct3))\n",
    "            out = input_t\n",
    "        \n",
    "        for i in range(future):\n",
    "            ht, ct = self.lstm4(out, (ht, ct))\n",
    "            ht2, ct2 = self.lstm5(ht, (ht2, ct2))\n",
    "#             ht3, ct3 = self.lstm6(ht2, (ht3, ct3))\n",
    "            \n",
    "            out = F.relu(self.fc1(ht3))\n",
    "            out = F.relu(self.fc2(out))\n",
    "            out = F.relu(self.fc3(ht2))\n",
    "            out = F.relu(self.fc4(out))\n",
    "            out = self.fc5(out)\n",
    "            outputs.append(out)\n",
    "            \n",
    "        outputs = torch.cat(outputs, dim=1)\n",
    "        return outputs"
   ]
  },
  {
   "cell_type": "code",
   "execution_count": null,
   "metadata": {},
   "outputs": [],
   "source": [
    "def train_func(model, device, train_loader, optimizer, epoch):\n",
    "    model.train()\n",
    "    iterator = tqdm(train_loader, total=int(len(train_loader)))\n",
    "\n",
    "    total = 0\n",
    "    count = 0\n",
    "    for i, batch in enumerate(iterator):\n",
    "        feat, target = batch\n",
    "           \n",
    "#         print(len(feat[0]))\n",
    "            \n",
    "        feat = np.array(feat)\n",
    "        feat = torch.from_numpy(feat).to(device)\n",
    "        \n",
    "        target  = np.array(target)\n",
    "        target = torch.from_numpy(target).float().to(device)\n",
    "            \n",
    "        optimizer.zero_grad()\n",
    "        output = model(feat)\n",
    "            \n",
    "#         target = torch.argmax(target, dim=1)\n",
    "            \n",
    "    \n",
    "        loss =  nn.MSELoss()(output, target)\n",
    "#         loss =  nn.CrossEntropyLoss()(output, target)\n",
    "        loss.backward()\n",
    "        optimizer.step()\n",
    "    \n",
    "        total += loss.item()\n",
    "        count += 1\n",
    "        iterator.set_postfix_str(\"loss={}, avg.={}\".format(loss.item(), total/count))\n",
    "        \n",
    "def val_func(model, device, test_loader):\n",
    "    model.eval()\n",
    "    iterator = tqdm(test_loader, total=int(len(test_loader)))\n",
    "\n",
    "    total = 0\n",
    "    count = 0\n",
    "    for i, batch in enumerate(iterator):\n",
    "        feat, target = batch\n",
    "           \n",
    "        feat = np.array(feat)\n",
    "        feat = torch.from_numpy(feat).to(device)\n",
    "        \n",
    "        target  = np.array(target)\n",
    "        target = torch.from_numpy(target).float().to(device)\n",
    "            \n",
    "        output = model(feat)\n",
    "            \n",
    "#         target = torch.argmax(target, dim=1)\n",
    "            \n",
    "        loss =  nn.MSELoss()(output, target)\n",
    "    \n",
    "        total += loss.item()\n",
    "        count += 1\n",
    "        iterator.set_postfix_str(\"avg.={}\".format(loss.item(), total/count))\n",
    "        \n",
    "    return total/count"
   ]
  },
  {
   "cell_type": "code",
   "execution_count": null,
   "metadata": {
    "scrolled": false
   },
   "outputs": [],
   "source": [
    "learning_rate = 0.001\n",
    "momentum = 0.5\n",
    "device = \"cuda\"\n",
    "batch_sz = 1000\n",
    "num_epoch = 1\n",
    "\n",
    "\n",
    "\n",
    "experiments = [\n",
    "    [True, True, True],\n",
    "    [True, False, True]\n",
    "]\n",
    "\n",
    "for experiment in experiments:\n",
    "    input_vector_size = len(get_feat(data[0], experiment))\n",
    "    print(f\"{experiment}:{input_vector_size}\")\n",
    "    \n",
    "    \n",
    "    model = SimilarityModel(input_vector_size).to(device) #using cpu here\n",
    "    optimizer = optim.AdamW(model.parameters(), lr=learning_rate)\n",
    "    \n",
    "    \n",
    "    train_data = ThingDataset(train, experiment)\n",
    "    val_data = ThingDataset(val, experiment)\n",
    "\n",
    "    train_loader = DataLoader(train_data, batch_size=batch_sz, shuffle = True, collate_fn=my_collate, num_workers=0)\n",
    "    val_loader = DataLoader(val_data, batch_size=batch_sz, shuffle = True, collate_fn=my_collate, num_workers=0)\n",
    "\n",
    "    PATH = f\"a2_{experiment}.pth\"\n",
    "\n",
    "    best_val =  100000\n",
    "    for epoch in range(1, num_epoch + 1):\n",
    "        print(\"EPOCH: {} -----------------------------------\".format(epoch))\n",
    "        train_func(model, device, train_loader, optimizer, epoch)\n",
    "        val_mse = val_func(model, device, val_loader)\n",
    "        if val_mse <  best_val:\n",
    "            best_val  =  val_mse\n",
    "            torch.save(model.state_dict(), PATH)"
   ]
  },
  {
   "cell_type": "code",
   "execution_count": null,
   "metadata": {},
   "outputs": [],
   "source": []
  },
  {
   "cell_type": "code",
   "execution_count": null,
   "metadata": {},
   "outputs": [],
   "source": [
    "allRatings = []\n",
    "userRatings = defaultdict(list)\n",
    "\n",
    "for d in train:\n",
    "    uid = d[\"user\"]\n",
    "    r = int(d['stars'])\n",
    "    allRatings.append(r)\n",
    "    userRatings[uid].append(r)"
   ]
  },
  {
   "cell_type": "code",
   "execution_count": null,
   "metadata": {},
   "outputs": [],
   "source": [
    "globalAverage = sum(allRatings) / len(allRatings)\n",
    "userAverage = {}\n",
    "for u in userRatings:\n",
    "    userAverage[u] = sum(userRatings[u]) / len(userRatings[u])\n",
    "        \n",
    "count = 0\n",
    "total = 0\n",
    "for d in val:\n",
    "    uid = d[\"user\"]\n",
    "    if uid in userAverage:\n",
    "        pred = userAverage[u]\n",
    "    else:\n",
    "        pred = globalAverage\n",
    "    count += (pred - d[\"stars\"]) ** 2\n",
    "    total += 1\n",
    "\n",
    "print(f\"Baseline performance on val: {count/total}\")"
   ]
  },
  {
   "cell_type": "code",
   "execution_count": null,
   "metadata": {},
   "outputs": [],
   "source": [
    "rating_stars = {}\n",
    "for d in train:\n",
    "    r = int(d['stars'])\n",
    "    rating_stars[r] = 0\n",
    "print(rating_stars)"
   ]
  },
  {
   "cell_type": "code",
   "execution_count": null,
   "metadata": {},
   "outputs": [],
   "source": []
  },
  {
   "cell_type": "code",
   "execution_count": null,
   "metadata": {},
   "outputs": [],
   "source": []
  },
  {
   "cell_type": "code",
   "execution_count": null,
   "metadata": {},
   "outputs": [],
   "source": []
  },
  {
   "cell_type": "code",
   "execution_count": null,
   "metadata": {},
   "outputs": [],
   "source": []
  },
  {
   "cell_type": "code",
   "execution_count": null,
   "metadata": {},
   "outputs": [],
   "source": []
  }
 ],
 "metadata": {
  "interpreter": {
   "hash": "2d45bbaad61a7b5928d708b105b315129c20a0649ca66cbea84bc24f08316dfd"
  },
  "kernelspec": {
   "display_name": "Python 3 (ipykernel)",
   "language": "python",
   "name": "python3"
  },
  "language_info": {
   "codemirror_mode": {
    "name": "ipython",
    "version": 3
   },
   "file_extension": ".py",
   "mimetype": "text/x-python",
   "name": "python",
   "nbconvert_exporter": "python",
   "pygments_lexer": "ipython3",
   "version": "3.9.5"
  }
 },
 "nbformat": 4,
 "nbformat_minor": 2
}
