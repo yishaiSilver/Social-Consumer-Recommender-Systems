{
 "cells": [
  {
   "cell_type": "code",
   "execution_count": 1,
   "metadata": {},
   "outputs": [],
   "source": [
    "import numpy as np\n",
    "import matplotlib.pyplot as plt\n",
    "import pandas as pd\n",
    "import gzip\n",
    "import pickle\n",
    "from collections import defaultdict\n",
    "import operator\n",
    "import string\n",
    "from tqdm.notebook import tqdm\n",
    "import torch\n",
    "import matplotlib.pyplot as plt\n",
    "import copy"
   ]
  },
  {
   "cell_type": "code",
   "execution_count": 2,
   "metadata": {},
   "outputs": [],
   "source": [
    "def parse(path):\n",
    "    g = open(path, 'r')\n",
    "    for l in g:\n",
    "        yield eval(l)\n",
    "\n",
    "data = list(parse(\"lthing_data/reviews.json\"))\n",
    "relationships = [l.replace(\"\\n\", \"\").split(\" \") for l in open(\"lthing_data/edges.txt\").readlines()]"
   ]
  },
  {
   "cell_type": "code",
   "execution_count": 3,
   "metadata": {},
   "outputs": [
    {
     "data": {
      "application/vnd.jupyter.widget-view+json": {
       "model_id": "fcb059f7710c4c48afc82c2fbdd969ff",
       "version_major": 2,
       "version_minor": 0
      },
      "text/plain": [
       "  0%|          | 0/1707070 [00:00<?, ?it/s]"
      ]
     },
     "metadata": {},
     "output_type": "display_data"
    },
    {
     "name": "stdout",
     "output_type": "stream",
     "text": [
      "{'work': '3206242', 'flags': [], 'unixtime': 1194393600, 'stars': 5.0, 'nhelpful': 0, 'time': 'Nov 7, 2007', 'comment': 'This a great book for young readers to be introduced to the world of Middle Earth. ', 'user': 'van_stef'}\n",
      "['Rodo', 'anehan']\n"
     ]
    }
   ],
   "source": [
    "data_new = []\n",
    "\n",
    "for d in tqdm(data):\n",
    "    if \"stars\" in d:\n",
    "        data_new.append(d)\n",
    "data = data_new[:100000]\n",
    "\n",
    "# data.sort(reverse=True, key = lambda x: x[\"unixtime\"])\n",
    "print(data[0])\n",
    "print(relationships[0])"
   ]
  },
  {
   "cell_type": "code",
   "execution_count": 4,
   "metadata": {},
   "outputs": [
    {
     "data": {
      "application/vnd.jupyter.widget-view+json": {
       "model_id": "b49708e9e39f4f839f3c6e39910dea35",
       "version_major": 2,
       "version_minor": 0
      },
      "text/plain": [
       "  0%|          | 0/100000 [00:00<?, ?it/s]"
      ]
     },
     "metadata": {},
     "output_type": "display_data"
    },
    {
     "data": {
      "application/vnd.jupyter.widget-view+json": {
       "model_id": "93e13c7cecd8467195c38a076a6b599a",
       "version_major": 2,
       "version_minor": 0
      },
      "text/plain": [
       "  0%|          | 0/219790 [00:00<?, ?it/s]"
      ]
     },
     "metadata": {},
     "output_type": "display_data"
    }
   ],
   "source": [
    "# Data:\n",
    "userItemRating = {}\n",
    "usersPerItem = defaultdict(set) # Maps an item to the users who rated it\n",
    "itemsPerUser = defaultdict(set) # Maps a user to the items that they rated\n",
    "\n",
    "for read in tqdm(data):\n",
    "    uid, bid = read['user'], read['work']\n",
    "    if \"stars\" in read:\n",
    "        userItemRating[(uid, bid)] = read['stars']\n",
    "    usersPerItem[bid].add(uid)\n",
    "    itemsPerUser[uid].add(bid)\n",
    "    \n",
    "\n",
    "def cosine_similarity(v1, v2):\n",
    "    denom = (np.linalg.norm(v1) * np.linalg.norm(v2))\n",
    "    if denom == 0:\n",
    "        return 0\n",
    "    else:\n",
    "        return np.dot(v1, v2) / denom\n",
    "    \n",
    "# find similarity between users on the basis of the ratings they give to books\n",
    "def user_similarity(u1, u2):\n",
    "    u1_books = itemsPerUser[u1]\n",
    "    u2_books = itemsPerUser[u2]\n",
    "    all_books = u1_books.union(u2_books)\n",
    "    u1_ratings = []\n",
    "    u2_ratings = []\n",
    "    for b in all_books:\n",
    "        if (u1, b) in userItemRating:\n",
    "            u1_ratings.append(userItemRating[(u1, b)])\n",
    "        else:\n",
    "            u1_ratings.append(0)\n",
    "        if (u2, b) in userItemRating:\n",
    "            u2_ratings.append(userItemRating[(u2, b)])\n",
    "        else:\n",
    "            u2_ratings.append(0)\n",
    "    return cosine_similarity(u1_ratings, u2_ratings)\n",
    "\n",
    "# Relationships:\n",
    "usersPerUser = defaultdict(set) # Maps an item to the users who rated it\n",
    "for relationship in tqdm(relationships):\n",
    "    u1, u2 = relationship\n",
    "    userSim = user_similarity(u1, u2)\n",
    "    usersPerUser[u1].add((userSim, u2))\n",
    "    usersPerUser[u2].add((userSim, u1))\n",
    "    \n",
    "for u in usersPerUser:\n",
    "    usersPerUser[u] = list(usersPerUser[u])\n",
    "    usersPerUser[u].sort(reverse=True)"
   ]
  },
  {
   "cell_type": "code",
   "execution_count": 5,
   "metadata": {},
   "outputs": [],
   "source": [
    "train_split = int(0.9 * len(data))\n",
    "train = data[:train_split]\n",
    "val = data[train_split:]"
   ]
  },
  {
   "cell_type": "markdown",
   "metadata": {},
   "source": [
    "### N-Grams"
   ]
  },
  {
   "cell_type": "code",
   "execution_count": 6,
   "metadata": {},
   "outputs": [
    {
     "data": {
      "application/vnd.jupyter.widget-view+json": {
       "model_id": "6a937cf3641c405599b2eacbc487b0e8",
       "version_major": 2,
       "version_minor": 0
      },
      "text/plain": [
       "  0%|          | 0/90000 [00:00<?, ?it/s]"
      ]
     },
     "metadata": {},
     "output_type": "display_data"
    },
    {
     "data": {
      "application/vnd.jupyter.widget-view+json": {
       "model_id": "e03c279182a3432e8fe575afc69e7b26",
       "version_major": 2,
       "version_minor": 0
      },
      "text/plain": [
       "  0%|          | 0/279838 [00:00<?, ?it/s]"
      ]
     },
     "metadata": {},
     "output_type": "display_data"
    },
    {
     "data": {
      "application/vnd.jupyter.widget-view+json": {
       "model_id": "0d5b78b74dff4c25b77c3fad56fc0e55",
       "version_major": 2,
       "version_minor": 0
      },
      "text/plain": [
       "  0%|          | 0/90000 [00:00<?, ?it/s]"
      ]
     },
     "metadata": {},
     "output_type": "display_data"
    }
   ],
   "source": [
    "unigrams = {}\n",
    "bigrams ={}\n",
    "\n",
    "for d in tqdm(train):\n",
    "    review = d[\"comment\"].lower().translate(str.maketrans('', '', string.punctuation))\n",
    "    d_unigrams = review.split()\n",
    "#     d_bigrams = list(zip(d_unigrams[:-1], d_unigrams[1:]))\n",
    "    \n",
    "    for ug in d_unigrams:\n",
    "        if ug in unigrams:\n",
    "            unigrams[ug] += 1\n",
    "        else:\n",
    "            unigrams[ug] = 1\n",
    "            \n",
    "#     for bg in d_bigrams:\n",
    "#         if bg in bigrams:\n",
    "#             bigrams[bg] += 1\n",
    "#         else:\n",
    "#             bigrams[bg] = 1\n",
    "            \n",
    "list_unigrams = [(k, v) for k, v in tqdm(unigrams.items())]\n",
    "list_unigrams.sort(reverse=True, key=operator.itemgetter(1))\n",
    "unigrams = [k for k, v in list_unigrams]\n",
    "ugId = dict(zip(unigrams, range(len(unigrams))))\n",
    "\n",
    "N=500\n",
    "unigrams_set = set(unigrams[:N])\n",
    "\n",
    "unigram_feats = {}\n",
    "for datum in tqdm(train):\n",
    "    work = datum[\"work\"]\n",
    "    if work in unigram_feats:\n",
    "        feat = unigram_feats[work]\n",
    "    else:\n",
    "        feat = ([0] * N)\n",
    "        feat.append(1)\n",
    "    review = datum[\"comment\"].lower().translate(str.maketrans('', '', string.punctuation))\n",
    "    d_unigrams = review.split()\n",
    "    for ug in d_unigrams:\n",
    "        if ug in unigrams_set:\n",
    "            index = ugId[ug]\n",
    "            feat[index] += 1\n",
    "    unigram_feats[work] = feat\n",
    "\n",
    "# list_bigrams = [(k, v) for k, v in tqdm(bigrams.items())]\n",
    "# list_bigrams .sort(reverse=True, key=operator.itemgetter(1))\n",
    "# bigrams = [k for k, v in list_bigrams]\n",
    "# bgId = dict(zip(bigrams, range(len(bigrams))))\n",
    "\n",
    "# list_unigrams_bigrams = list_unigrams + list_bigrams\n",
    "# list_unigrams_bigrams.sort(reverse=True, key=operator.itemgetter(1))\n",
    "# unigrams_bigrams = [k for k, v in list_unigrams_bigrams]\n",
    "# ugbgId = dict(zip(unigrams_bigrams, range(len(unigrams_bigrams))))\n",
    "\n",
    "# with open('unigrams.pickle', 'wb') as handle:\n",
    "#     pickle.dump(unigrams, handle, protocol=pickle.HIGHEST_PROTOCOL)\n",
    "# with open('ugId.pickle', 'wb') as handle:\n",
    "#     pickle.dump(ugId, handle, protocol=pickle.HIGHEST_PROTOCOL)\n",
    "    \n",
    "# with open('bigrams.pickle', 'wb') as handle:\n",
    "#     pickle.dump(bigrams, handle, protocol=pickle.HIGHEST_PROTOCOL)\n",
    "# with open('bgId.pickle', 'wb') as handle:\n",
    "#     pickle.dump(bgId, handle, protocol=pickle.HIGHEST_PROTOCOL)\n",
    "\n",
    "# with open('unigrams_bigrams.pickle', 'wb') as handle:\n",
    "#     pickle.dump(unigrams_bigrams, handle, protocol=pickle.HIGHEST_PROTOCOL)\n",
    "# with open('ugbgId.pickle', 'wb') as handle:\n",
    "#     pickle.dump(ugbgId, handle, protocol=pickle.HIGHEST_PROTOCOL)"
   ]
  },
  {
   "cell_type": "code",
   "execution_count": 7,
   "metadata": {},
   "outputs": [],
   "source": [
    "# with open('unigrams.pickle', 'rb') as handle:\n",
    "#     unigrams = pickle.load(handle)\n",
    "# with open('ugId.pickle', 'rb') as handle:\n",
    "#     ugId = pickle.load(handle)\n",
    "    \n",
    "# with open('bigrams.pickle', 'rb') as handle:\n",
    "#     bigrams = pickle.load(handle)\n",
    "# with open('bgId.pickle', 'rb') as handle:\n",
    "#     bgId = pickle.load(handle)\n",
    "    \n",
    "# with open('unigrams_bigrams.pickle', 'rb') as handle:\n",
    "#     unigrams_bigrams = pickle.load(handle)\n",
    "# with open('ugbgId.pickle', 'rb') as handle:\n",
    "#     ugbgId = pickle.load(handle)"
   ]
  },
  {
   "cell_type": "markdown",
   "metadata": {},
   "source": [
    "### N-Gram Features:"
   ]
  },
  {
   "cell_type": "code",
   "execution_count": 8,
   "metadata": {},
   "outputs": [],
   "source": [
    "def unigrams_feat(datum, N):\n",
    "    review = datum[\"comment\"].lower().translate(str.maketrans('', '', string.punctuation))\n",
    "    d_unigrams = review.split()\n",
    "    feat = [0] * N\n",
    "    unigrams_set = set(unigrams[:N])\n",
    "    for ug in d_unigrams:\n",
    "        if ug in unigrams_set:\n",
    "            feat[ugId[ug]] += 1\n",
    "    feat.append(1)\n",
    "    return feat\n",
    "\n",
    "def bigrams_feat(datum, N):\n",
    "    review = datum[\"comment\"].lower().translate(str.maketrans('', '', string.punctuation))\n",
    "    d_unigrams = review.split()\n",
    "    d_bigrams = list(zip(d_unigrams[:-1], d_unigrams[1:]))\n",
    "    feat = [0] * N\n",
    "    bigrams_set = set(bigrams[:N])\n",
    "    for bg in d_bigrams:\n",
    "        if bg in bigrams_set:\n",
    "            feat[bgId[bg]] += 1\n",
    "    feat.append(1)\n",
    "    return feat\n",
    "\n",
    "def unigrams_bigrams_feat(datum, N):\n",
    "    review = datum[\"comment\"].lower().translate(str.maketrans('', '', string.punctuation))\n",
    "    d_unigrams = review.split()\n",
    "    d_bigrams = list(zip(d_unigrams[:-1], d_unigrams[1:]))\n",
    "    d_unigrams_bigrams  = d_unigrams + d_bigrams\n",
    "    feat = [0] * N\n",
    "    unigrams_bigrams_set = set(unigrams_bigrams[:N])\n",
    "    for ugbg in d_unigrams_bigrams:\n",
    "        if ugbg in unigrams_bigrams_set:\n",
    "            feat[ugbgId[ugbg]] += 1\n",
    "    feat.append(1)\n",
    "    return feat\n",
    "\n",
    "def label(datum):\n",
    "    return datum[\"rating\"]"
   ]
  },
  {
   "cell_type": "markdown",
   "metadata": {},
   "source": [
    "### Relationship Features:"
   ]
  },
  {
   "cell_type": "code",
   "execution_count": 9,
   "metadata": {},
   "outputs": [
    {
     "name": "stdout",
     "output_type": "stream",
     "text": [
      "[0. 0. 0. 0. 0. 0. 0. 0. 0. 0. 1.]\n"
     ]
    }
   ],
   "source": [
    "def Jaccard(s1, s2):\n",
    "    s1 = set(s1)\n",
    "    s2 = set(s2)\n",
    "    return len(s1.intersection(s2)) / len(s1.union(s2))\n",
    "\n",
    "def getFriendsFeat(datum):\n",
    "    uid, bid = datum[\"user\"], datum[\"work\"]\n",
    "    friends = usersPerUser[uid]\n",
    "    bid_books = usersPerItem[bid]\n",
    "    \n",
    "    feat_friends = []\n",
    "    for sim, f in friends:\n",
    "        f_feat = [1]                                  # is a real user\n",
    "        \n",
    "        f_books = itemsPerUser[f]                    # user rating\n",
    "        if bid in f_books:\n",
    "            f_feat.append(userItemRating[(f, bid)])\n",
    "        else:\n",
    "            f_feat.append(-1)\n",
    "            \n",
    "        f_feat.append(sim)\n",
    "            \n",
    "        f_friends = [ff for sim, ff in usersPerUser[f]]\n",
    "        f_jacc = Jaccard(f_friends, bid_books) # user jacc\n",
    "        f_feat.append(f_jacc)\n",
    "        \n",
    "        feat_friends.append(f_feat)\n",
    "    \n",
    "    if len(feat_friends) < 5:\n",
    "        while(len(feat_friends) < 5):\n",
    "            feat_friends.append([0, -1, 0, 0])\n",
    "    \n",
    "    feat_friends.sort(reverse=True, key=operator.itemgetter(3)) # book sims for friends\n",
    "    feat_friends.sort(reverse=True, key=operator.itemgetter(2)) # similar friends in opinion\n",
    "    feat_friends.sort(reverse=True, key=operator.itemgetter(1)) # friends who had book\n",
    "    feat_friends.sort(reverse=True, key=operator.itemgetter(0)) # real users first\n",
    "        \n",
    "    feat_friends = feat_friends[:5]\n",
    "    return feat_friends\n",
    "\n",
    "# for i in range(10):\n",
    "#     print(getFriendsFeat(data[i]))\n",
    "\n",
    "def getJaccFriendsFeat(datum):\n",
    "    uid, bid = datum[\"user\"], datum[\"work\"]\n",
    "    if uid in usersPerUser:\n",
    "        s1 = usersPerUser[uid]\n",
    "    else:\n",
    "        s1 = set()\n",
    "    if bid in usersPerItem:\n",
    "        s2 = usersPerItem[bid]\n",
    "    else:\n",
    "        s2 = set()\n",
    "        \n",
    "    return Jaccard(s1, s2)\n",
    "    \n",
    "    \n",
    "def get_feat(datum, experiment):\n",
    "    uf, ff, jf = experiment\n",
    "    feat = []\n",
    "    \n",
    "    if uf:\n",
    "        work = datum[\"work\"]\n",
    "        if work in unigram_feats:\n",
    "            feat = np.array(copy.deepcopy(unigram_feats[datum[\"work\"]]))\n",
    "        else:\n",
    "            feat = np.zeros((N + 1))\n",
    "            \n",
    "    if ff:\n",
    "        friends_feats = getFriendsFeat(datum)\n",
    "        for f in friends_feats:\n",
    "            for i in f:\n",
    "                feat = np.append(feat, i)\n",
    "                \n",
    "    if jf:\n",
    "        jacc = getJaccFriendsFeat(datum)\n",
    "        feat  = np.append(feat, jacc)\n",
    "    \n",
    "    feat  = np.append(feat,  1)\n",
    "            \n",
    "    return feat\n",
    "\n",
    "# print(len(get_feat(data[0], [True, False, False])))\n",
    "\n",
    "def get_stars_one_hot(stars):\n",
    "    stars = int(stars)\n",
    "    out = np.zeros((6))\n",
    "    out[stars] = 1\n",
    "    return out\n",
    "\n",
    "test = np.zeros((10))\n",
    "print(np.append(test, 1))"
   ]
  },
  {
   "cell_type": "code",
   "execution_count": 19,
   "metadata": {},
   "outputs": [
    {
     "data": {
      "application/vnd.jupyter.widget-view+json": {
       "model_id": "aaf0d1683218437d9a84076d7212952f",
       "version_major": 2,
       "version_minor": 0
      },
      "text/plain": [
       "  0%|          | 0/90000 [00:00<?, ?it/s]"
      ]
     },
     "metadata": {},
     "output_type": "display_data"
    },
    {
     "ename": "KeyboardInterrupt",
     "evalue": "",
     "output_type": "error",
     "traceback": [
      "\u001b[0;31m---------------------------------------------------------------------------\u001b[0m",
      "\u001b[0;31mKeyboardInterrupt\u001b[0m                         Traceback (most recent call last)",
      "\u001b[0;32m/tmp/ipykernel_45598/1694104703.py\u001b[0m in \u001b[0;36m<module>\u001b[0;34m\u001b[0m\n\u001b[1;32m     10\u001b[0m     \u001b[0my_train\u001b[0m \u001b[0;34m=\u001b[0m\u001b[0;34m[\u001b[0m\u001b[0;34m]\u001b[0m\u001b[0;34m\u001b[0m\u001b[0;34m\u001b[0m\u001b[0m\n\u001b[1;32m     11\u001b[0m     \u001b[0;32mfor\u001b[0m \u001b[0mt\u001b[0m \u001b[0;32min\u001b[0m \u001b[0mtqdm\u001b[0m\u001b[0;34m(\u001b[0m\u001b[0mtrain\u001b[0m\u001b[0;34m)\u001b[0m\u001b[0;34m:\u001b[0m\u001b[0;34m\u001b[0m\u001b[0;34m\u001b[0m\u001b[0m\n\u001b[0;32m---> 12\u001b[0;31m         \u001b[0mfeat\u001b[0m \u001b[0;34m=\u001b[0m \u001b[0mget_feat\u001b[0m\u001b[0;34m(\u001b[0m\u001b[0mt\u001b[0m\u001b[0;34m,\u001b[0m \u001b[0mexperiment\u001b[0m\u001b[0;34m)\u001b[0m\u001b[0;34m\u001b[0m\u001b[0;34m\u001b[0m\u001b[0m\n\u001b[0m\u001b[1;32m     13\u001b[0m         \u001b[0mX_train\u001b[0m\u001b[0;34m.\u001b[0m\u001b[0mappend\u001b[0m\u001b[0;34m(\u001b[0m\u001b[0mfeat\u001b[0m\u001b[0;34m)\u001b[0m\u001b[0;34m\u001b[0m\u001b[0;34m\u001b[0m\u001b[0m\n\u001b[1;32m     14\u001b[0m         \u001b[0my_train\u001b[0m\u001b[0;34m.\u001b[0m\u001b[0mappend\u001b[0m\u001b[0;34m(\u001b[0m\u001b[0mt\u001b[0m\u001b[0;34m[\u001b[0m\u001b[0;34m\"stars\"\u001b[0m\u001b[0;34m]\u001b[0m\u001b[0;34m)\u001b[0m\u001b[0;34m\u001b[0m\u001b[0;34m\u001b[0m\u001b[0m\n",
      "\u001b[0;32m/tmp/ipykernel_45598/3242050558.py\u001b[0m in \u001b[0;36mget_feat\u001b[0;34m(datum, experiment)\u001b[0m\n\u001b[1;32m     68\u001b[0m \u001b[0;34m\u001b[0m\u001b[0m\n\u001b[1;32m     69\u001b[0m     \u001b[0;32mif\u001b[0m \u001b[0mff\u001b[0m\u001b[0;34m:\u001b[0m\u001b[0;34m\u001b[0m\u001b[0;34m\u001b[0m\u001b[0m\n\u001b[0;32m---> 70\u001b[0;31m         \u001b[0mfriends_feats\u001b[0m \u001b[0;34m=\u001b[0m \u001b[0mgetFriendsFeat\u001b[0m\u001b[0;34m(\u001b[0m\u001b[0mdatum\u001b[0m\u001b[0;34m)\u001b[0m\u001b[0;34m\u001b[0m\u001b[0;34m\u001b[0m\u001b[0m\n\u001b[0m\u001b[1;32m     71\u001b[0m         \u001b[0;32mfor\u001b[0m \u001b[0mf\u001b[0m \u001b[0;32min\u001b[0m \u001b[0mfriends_feats\u001b[0m\u001b[0;34m:\u001b[0m\u001b[0;34m\u001b[0m\u001b[0;34m\u001b[0m\u001b[0m\n\u001b[1;32m     72\u001b[0m             \u001b[0;32mfor\u001b[0m \u001b[0mi\u001b[0m \u001b[0;32min\u001b[0m \u001b[0mf\u001b[0m\u001b[0;34m:\u001b[0m\u001b[0;34m\u001b[0m\u001b[0;34m\u001b[0m\u001b[0m\n",
      "\u001b[0;32m/tmp/ipykernel_45598/3242050558.py\u001b[0m in \u001b[0;36mgetFriendsFeat\u001b[0;34m(datum)\u001b[0m\n\u001b[1;32m     21\u001b[0m         \u001b[0mf_feat\u001b[0m\u001b[0;34m.\u001b[0m\u001b[0mappend\u001b[0m\u001b[0;34m(\u001b[0m\u001b[0msim\u001b[0m\u001b[0;34m)\u001b[0m\u001b[0;34m\u001b[0m\u001b[0;34m\u001b[0m\u001b[0m\n\u001b[1;32m     22\u001b[0m \u001b[0;34m\u001b[0m\u001b[0m\n\u001b[0;32m---> 23\u001b[0;31m         \u001b[0mf_friends\u001b[0m \u001b[0;34m=\u001b[0m \u001b[0;34m[\u001b[0m\u001b[0mff\u001b[0m \u001b[0;32mfor\u001b[0m \u001b[0msim\u001b[0m\u001b[0;34m,\u001b[0m \u001b[0mff\u001b[0m \u001b[0;32min\u001b[0m \u001b[0musersPerUser\u001b[0m\u001b[0;34m[\u001b[0m\u001b[0mf\u001b[0m\u001b[0;34m]\u001b[0m\u001b[0;34m]\u001b[0m\u001b[0;34m\u001b[0m\u001b[0;34m\u001b[0m\u001b[0m\n\u001b[0m\u001b[1;32m     24\u001b[0m         \u001b[0mf_jacc\u001b[0m \u001b[0;34m=\u001b[0m \u001b[0mJaccard\u001b[0m\u001b[0;34m(\u001b[0m\u001b[0mf_friends\u001b[0m\u001b[0;34m,\u001b[0m \u001b[0mbid_books\u001b[0m\u001b[0;34m)\u001b[0m \u001b[0;31m# user jacc\u001b[0m\u001b[0;34m\u001b[0m\u001b[0;34m\u001b[0m\u001b[0m\n\u001b[1;32m     25\u001b[0m         \u001b[0mf_feat\u001b[0m\u001b[0;34m.\u001b[0m\u001b[0mappend\u001b[0m\u001b[0;34m(\u001b[0m\u001b[0mf_jacc\u001b[0m\u001b[0;34m)\u001b[0m\u001b[0;34m\u001b[0m\u001b[0;34m\u001b[0m\u001b[0m\n",
      "\u001b[0;32m/tmp/ipykernel_45598/3242050558.py\u001b[0m in \u001b[0;36m<listcomp>\u001b[0;34m(.0)\u001b[0m\n\u001b[1;32m     21\u001b[0m         \u001b[0mf_feat\u001b[0m\u001b[0;34m.\u001b[0m\u001b[0mappend\u001b[0m\u001b[0;34m(\u001b[0m\u001b[0msim\u001b[0m\u001b[0;34m)\u001b[0m\u001b[0;34m\u001b[0m\u001b[0;34m\u001b[0m\u001b[0m\n\u001b[1;32m     22\u001b[0m \u001b[0;34m\u001b[0m\u001b[0m\n\u001b[0;32m---> 23\u001b[0;31m         \u001b[0mf_friends\u001b[0m \u001b[0;34m=\u001b[0m \u001b[0;34m[\u001b[0m\u001b[0mff\u001b[0m \u001b[0;32mfor\u001b[0m \u001b[0msim\u001b[0m\u001b[0;34m,\u001b[0m \u001b[0mff\u001b[0m \u001b[0;32min\u001b[0m \u001b[0musersPerUser\u001b[0m\u001b[0;34m[\u001b[0m\u001b[0mf\u001b[0m\u001b[0;34m]\u001b[0m\u001b[0;34m]\u001b[0m\u001b[0;34m\u001b[0m\u001b[0;34m\u001b[0m\u001b[0m\n\u001b[0m\u001b[1;32m     24\u001b[0m         \u001b[0mf_jacc\u001b[0m \u001b[0;34m=\u001b[0m \u001b[0mJaccard\u001b[0m\u001b[0;34m(\u001b[0m\u001b[0mf_friends\u001b[0m\u001b[0;34m,\u001b[0m \u001b[0mbid_books\u001b[0m\u001b[0;34m)\u001b[0m \u001b[0;31m# user jacc\u001b[0m\u001b[0;34m\u001b[0m\u001b[0;34m\u001b[0m\u001b[0m\n\u001b[1;32m     25\u001b[0m         \u001b[0mf_feat\u001b[0m\u001b[0;34m.\u001b[0m\u001b[0mappend\u001b[0m\u001b[0;34m(\u001b[0m\u001b[0mf_jacc\u001b[0m\u001b[0;34m)\u001b[0m\u001b[0;34m\u001b[0m\u001b[0;34m\u001b[0m\u001b[0m\n",
      "\u001b[0;31mKeyboardInterrupt\u001b[0m: "
     ]
    }
   ],
   "source": [
    "\n",
    "experiments = [\n",
    "    (False, [True, True, True]),\n",
    "    (False, [False, True, True]),\n",
    "    (False, [True, False, True]),\n",
    "    (False, [True, True, False]),\n",
    "]\n",
    "\n",
    "for oh, experiment in experiments:\n",
    "    X_train = []\n",
    "    y_train =[]\n",
    "    for t in tqdm(train):\n",
    "        feat = get_feat(t, experiment)\n",
    "        X_train.append(feat)\n",
    "        y_train.append(t[\"stars\"])\n",
    "\n",
    "    X_val = []\n",
    "    y_val  = []\n",
    "    for t in tqdm(val):\n",
    "        feat = get_feat(t, experiment)\n",
    "        X_val.append(feat)\n",
    "        y_val.append(t[\"stars\"])\n",
    "\n",
    "    \n",
    "    ## regression,  "
   ]
  },
  {
   "cell_type": "code",
   "execution_count": 10,
   "metadata": {},
   "outputs": [],
   "source": [
    "from torch.utils.data import Dataset, DataLoader\n",
    "\n",
    "class ThingDataset(Dataset):\n",
    "    \"\"\"Dataset class for Argoverse\"\"\"\n",
    "    def __init__(self, d, experiment, stars_oh=False):\n",
    "        super(ThingDataset, self).__init__()\n",
    "        self.data = d\n",
    "        self.experiment = experiment\n",
    "        self.stars_oh = stars_oh\n",
    "#         self.all_feats = {}\n",
    "#         for d in tqdm(self.data):\n",
    "#             uid, bid = d[\"user\"], d[\"work\"]\n",
    "#             feat = get_feat(d, [True, False, False])\n",
    "#             self.all_feats[(uid, bid)] = feat\n",
    "        \n",
    "        \n",
    "    def __len__(self):\n",
    "        return len(self.data)\n",
    "\n",
    "    def __getitem__(self, i):\n",
    "        review = self.data[i]\n",
    "        \n",
    "#         feat = self.all_feats[review]\n",
    "        feat = get_feat(review, self.experiment)\n",
    "        \n",
    "        if self.stars_oh:\n",
    "            label = get_stars_one_hot(review[\"stars\"])\n",
    "        else:\n",
    "            label = review[\"stars\"]\n",
    "        \n",
    "        return feat, label\n",
    "\n",
    "def my_collate(batch):\n",
    "    \"\"\" collate lists of samples into batches, create [ batch_sz x agent_sz x seq_len x feature] \"\"\"\n",
    "    feats = [scene[0] for scene in batch]\n",
    "    labels = [scene[1] for scene in batch]\n",
    "    \n",
    "    return [feats, labels]\n",
    "\n",
    "def test_collate(batch):\n",
    "    \"\"\" collate lists of samples into batches, create [ batch_sz x agent_sz x seq_len x feature] \"\"\"\n",
    "    feats = [scene[0] for scene in batch]\n",
    "    \n",
    "    return [feats]"
   ]
  },
  {
   "cell_type": "code",
   "execution_count": 11,
   "metadata": {},
   "outputs": [],
   "source": [
    "import torch.nn as nn\n",
    "import torch.nn.functional as F\n",
    "import torch.optim as optim\n",
    "\n",
    "class SimilarityModel(nn.Module):\n",
    "    def __init__(self, input_vector_size, stars_oh):\n",
    "        super().__init__()\n",
    "        \n",
    "        self.stars_oh = stars_oh\n",
    "        \n",
    "        # FC\n",
    "        self.fc1 = nn.Linear(input_vector_size, 4096)\n",
    "        self.fc2 = nn.Linear(4096, 8192)\n",
    "        self.fc3 = nn.Linear(8192, 4096)\n",
    "        self.fc4 = nn.Linear(4096, 2048)\n",
    "        self.fc5 = nn.Linear(2048, 1024)\n",
    "        self.fc6 = nn.Linear(1024, 512)\n",
    "        self.fc7 = nn.Linear(512, 256)\n",
    "        if stars_oh:\n",
    "            self.fc8 = nn.Linear(256, 6)\n",
    "        else:\n",
    "            self.fc8 = nn.Linear(256, 1)\n",
    "            \n",
    "        self.sig = nn.Sigmoid()\n",
    "        \n",
    "    def forward(self, x):\n",
    "        x = x.float()\n",
    "            \n",
    "        out = F.relu(self.fc1(x))\n",
    "        out = F.relu(self.fc2(out))\n",
    "        out = F.relu(self.fc3(out))\n",
    "        out = F.relu(self.fc4(out))\n",
    "        out = F.relu(self.fc5(out))\n",
    "        out = F.relu(self.fc6(out))\n",
    "        out = F.relu(self.fc7(out))\n",
    "        out = self.fc8(out)\n",
    "        \n",
    "        if self.stars_oh:\n",
    "            out = self.sig(out)\n",
    "        \n",
    "        return out\n",
    "        "
   ]
  },
  {
   "cell_type": "code",
   "execution_count": 12,
   "metadata": {},
   "outputs": [],
   "source": [
    "import torch.nn as nn\n",
    "import torch.nn.functional as F\n",
    "import torch.optim as optim\n",
    "\n",
    "class RNN(nn.Module):\n",
    "    def __init__(self, input_size=120, num_layers=2, hidden_size=256):\n",
    "        super().__init__()\n",
    "        self.hidden_size = hidden_size\n",
    "        self.num_layers = num_layers\n",
    "        \n",
    "        self.s1 = 512\n",
    "        self.s2 = 1024\n",
    "        self.s3 = 2048\n",
    "        \n",
    "        # Encoder\n",
    "        self.lstm1 = nn.LSTMCell(input_size, self.s1)\n",
    "        self.lstm2 = nn.LSTMCell(self.s1, self.s2)\n",
    "        self.lstm3 = nn.LSTMCell(self.s2, self.s3)\n",
    "        \n",
    "        # Decoder\n",
    "        self.lstm4 = nn.LSTMCell(input_size, self.s1)\n",
    "        self.lstm5 = nn.LSTMCell(self.s1, self.s2)\n",
    "        self.lstm6 = nn.LSTMCell(self.s2, self.s3)\n",
    "        \n",
    "        # FC\n",
    "        self.fc1 = nn.Linear(self.s3, 2048)\n",
    "        self.fc2 = nn.Linear(2048, 1024)\n",
    "        self.fc3 = nn.Linear(1024, 512)\n",
    "        self.fc4 = nn.Linear(512, 256)\n",
    "        self.fc5 = nn.Linear(256, 120)\n",
    "        \n",
    "    def forward(self, x, future=0):\n",
    "        x = x.float()\n",
    "        outputs = []\n",
    "        n_samples = x.size(0)\n",
    "        \n",
    "        ht = torch.zeros(n_samples, self.s1, dtype=torch.float32).to(device)\n",
    "        ct = torch.zeros(n_samples, self.s1, dtype=torch.float32).to(device)\n",
    "        ht2 = torch.zeros(n_samples, self.s2, dtype=torch.float32).to(device)\n",
    "        ct2 = torch.zeros(n_samples, self.s2, dtype=torch.float32).to(device)\n",
    "        ht3 = torch.zeros(n_samples, self.s3, dtype=torch.float32).to(device)\n",
    "        ct3 = torch.zeros(n_samples, self.s3, dtype=torch.float32).to(device)\n",
    "        for input_t in x.split(1, dim=1):\n",
    "            input_t = input_t.reshape((n_samples, 120))\n",
    "            ht, ct = self.lstm1(input_t, (ht, ct))\n",
    "            ht2, ct2 = self.lstm2(ht, (ht2, ct2))\n",
    "#             ht3, ct3 = self.lstm3(ht2, (ht3, ct3))\n",
    "            out = input_t\n",
    "        \n",
    "        for i in range(future):\n",
    "            ht, ct = self.lstm4(out, (ht, ct))\n",
    "            ht2, ct2 = self.lstm5(ht, (ht2, ct2))\n",
    "#             ht3, ct3 = self.lstm6(ht2, (ht3, ct3))\n",
    "            \n",
    "            out = F.relu(self.fc1(ht3))\n",
    "            out = F.relu(self.fc2(out))\n",
    "            out = F.relu(self.fc3(ht2))\n",
    "            out = F.relu(self.fc4(out))\n",
    "            out = self.fc5(out)\n",
    "            outputs.append(out)\n",
    "            \n",
    "        outputs = torch.cat(outputs, dim=1)\n",
    "        return outputs"
   ]
  },
  {
   "cell_type": "code",
   "execution_count": 13,
   "metadata": {},
   "outputs": [],
   "source": [
    "def train_func(model, device, train_loader, optimizer, epoch, stars_oh):\n",
    "    model.train()\n",
    "    iterator = tqdm(train_loader, total=int(len(train_loader)))\n",
    "\n",
    "    total = 0\n",
    "    count = 0\n",
    "    losses = []\n",
    "    for i, batch in enumerate(iterator):\n",
    "        feat, target = batch\n",
    "           \n",
    "#         print(len(feat[0]))\n",
    "            \n",
    "        feat = np.array(feat)\n",
    "        feat = torch.from_numpy(feat).to(device)\n",
    "        \n",
    "        target  = np.array(target)\n",
    "        target = torch.from_numpy(target).float().to(device)\n",
    "            \n",
    "        optimizer.zero_grad()\n",
    "        output = model(feat)\n",
    "            \n",
    "        if stars_oh:\n",
    "            target = torch.argmax(target, dim=1)\n",
    "            loss =  nn.CrossEntropyLoss()(output, target)\n",
    "        else:\n",
    "            loss =  nn.MSELoss()(output, target)\n",
    "            \n",
    "        loss.backward()\n",
    "        optimizer.step()\n",
    "    \n",
    "        loss_val = loss.item()\n",
    "        total += loss_val\n",
    "        count += 1\n",
    "        losses.append(loss_val)\n",
    "        iterator.set_postfix_str(\"loss={}, avg.={}\".format(loss.item(), total/count))\n",
    "        \n",
    "    return losses\n",
    "        \n",
    "def val_func(model, device, test_loader, stars_oh):\n",
    "    model.eval()\n",
    "    iterator = tqdm(test_loader, total=int(len(test_loader)))\n",
    "\n",
    "    total = 0\n",
    "    count = 0\n",
    "    for i, batch in enumerate(iterator):\n",
    "        feat, target = batch\n",
    "           \n",
    "        feat = np.array(feat)\n",
    "        feat = torch.from_numpy(feat).to(device)\n",
    "        \n",
    "        target  = np.array(target)\n",
    "        target = torch.from_numpy(target).float().to(device)\n",
    "            \n",
    "        output = model(feat)\n",
    "#         print(output.cpu())\n",
    "        \n",
    "        if stars_oh:\n",
    "            target = torch.argmax(target, dim=1)\n",
    "            loss =  nn.CrossEntropyLoss()(output, target)\n",
    "        else:\n",
    "            loss =  nn.MSELoss()(output, target)\n",
    "    \n",
    "        total += loss.item()\n",
    "        count += 1\n",
    "        iterator.set_postfix_str(\"avg.={}\".format(loss.item(), total/count))\n",
    "        \n",
    "    return total/count"
   ]
  },
  {
   "cell_type": "code",
   "execution_count": 14,
   "metadata": {},
   "outputs": [
    {
     "data": {
      "text/plain": [
       "True"
      ]
     },
     "execution_count": 14,
     "metadata": {},
     "output_type": "execute_result"
    }
   ],
   "source": [
    "torch.cuda.is_available()"
   ]
  },
  {
   "cell_type": "code",
   "execution_count": 15,
   "metadata": {
    "scrolled": false
   },
   "outputs": [
    {
     "name": "stdout",
     "output_type": "stream",
     "text": [
      "False, [True, True, True]:523\n",
      "EPOCH: 1 -----------------------------------\n"
     ]
    },
    {
     "data": {
      "application/vnd.jupyter.widget-view+json": {
       "model_id": "5e9638bc9d9642508f7616f19adbbef4",
       "version_major": 2,
       "version_minor": 0
      },
      "text/plain": [
       "  0%|          | 0/900 [00:00<?, ?it/s]"
      ]
     },
     "metadata": {},
     "output_type": "display_data"
    },
    {
     "name": "stderr",
     "output_type": "stream",
     "text": [
      "/home/ssilver/.local/lib/python3.9/site-packages/torch/nn/modules/loss.py:520: UserWarning: Using a target size (torch.Size([100])) that is different to the input size (torch.Size([100, 1])). This will likely lead to incorrect results due to broadcasting. Please ensure they have the same size.\n",
      "  return F.mse_loss(input, target, reduction=self.reduction)\n"
     ]
    },
    {
     "data": {
      "application/vnd.jupyter.widget-view+json": {
       "model_id": "a8395daeed9c4512beb31b63fe6b361e",
       "version_major": 2,
       "version_minor": 0
      },
      "text/plain": [
       "  0%|          | 0/100 [00:00<?, ?it/s]"
      ]
     },
     "metadata": {},
     "output_type": "display_data"
    },
    {
     "name": "stdout",
     "output_type": "stream",
     "text": [
      "EPOCH: 2 -----------------------------------\n"
     ]
    },
    {
     "data": {
      "application/vnd.jupyter.widget-view+json": {
       "model_id": "4d2b26d258014c5c90d48172575dc97a",
       "version_major": 2,
       "version_minor": 0
      },
      "text/plain": [
       "  0%|          | 0/900 [00:00<?, ?it/s]"
      ]
     },
     "metadata": {},
     "output_type": "display_data"
    },
    {
     "data": {
      "application/vnd.jupyter.widget-view+json": {
       "model_id": "2524c9cd684a47818c13e54dc6c76d28",
       "version_major": 2,
       "version_minor": 0
      },
      "text/plain": [
       "  0%|          | 0/100 [00:00<?, ?it/s]"
      ]
     },
     "metadata": {},
     "output_type": "display_data"
    },
    {
     "name": "stdout",
     "output_type": "stream",
     "text": [
      "EPOCH: 3 -----------------------------------\n"
     ]
    },
    {
     "data": {
      "application/vnd.jupyter.widget-view+json": {
       "model_id": "f62f52ccc4c64dfa8260e955fe2812bb",
       "version_major": 2,
       "version_minor": 0
      },
      "text/plain": [
       "  0%|          | 0/900 [00:00<?, ?it/s]"
      ]
     },
     "metadata": {},
     "output_type": "display_data"
    },
    {
     "data": {
      "application/vnd.jupyter.widget-view+json": {
       "model_id": "c087822f81e147a4b75e2d5d8d9a76ce",
       "version_major": 2,
       "version_minor": 0
      },
      "text/plain": [
       "  0%|          | 0/100 [00:00<?, ?it/s]"
      ]
     },
     "metadata": {},
     "output_type": "display_data"
    },
    {
     "name": "stdout",
     "output_type": "stream",
     "text": [
      "EPOCH: 4 -----------------------------------\n"
     ]
    },
    {
     "data": {
      "application/vnd.jupyter.widget-view+json": {
       "model_id": "643e32e8ec89436195b7b4410b2e0132",
       "version_major": 2,
       "version_minor": 0
      },
      "text/plain": [
       "  0%|          | 0/900 [00:00<?, ?it/s]"
      ]
     },
     "metadata": {},
     "output_type": "display_data"
    },
    {
     "data": {
      "application/vnd.jupyter.widget-view+json": {
       "model_id": "ec24c7d2b77f4336a427d6c3811e6832",
       "version_major": 2,
       "version_minor": 0
      },
      "text/plain": [
       "  0%|          | 0/100 [00:00<?, ?it/s]"
      ]
     },
     "metadata": {},
     "output_type": "display_data"
    },
    {
     "name": "stdout",
     "output_type": "stream",
     "text": [
      "EPOCH: 5 -----------------------------------\n"
     ]
    },
    {
     "data": {
      "application/vnd.jupyter.widget-view+json": {
       "model_id": "6f7fc35c1ebb49928c330384fb9baae7",
       "version_major": 2,
       "version_minor": 0
      },
      "text/plain": [
       "  0%|          | 0/900 [00:00<?, ?it/s]"
      ]
     },
     "metadata": {},
     "output_type": "display_data"
    },
    {
     "data": {
      "application/vnd.jupyter.widget-view+json": {
       "model_id": "2f07f52a085b4160b0f058b1d818dc3a",
       "version_major": 2,
       "version_minor": 0
      },
      "text/plain": [
       "  0%|          | 0/100 [00:00<?, ?it/s]"
      ]
     },
     "metadata": {},
     "output_type": "display_data"
    },
    {
     "name": "stdout",
     "output_type": "stream",
     "text": [
      "False, [False, True, True]:22\n",
      "EPOCH: 1 -----------------------------------\n"
     ]
    },
    {
     "data": {
      "application/vnd.jupyter.widget-view+json": {
       "model_id": "3269b0dff62a4e23ac82b7c552c11bcf",
       "version_major": 2,
       "version_minor": 0
      },
      "text/plain": [
       "  0%|          | 0/900 [00:00<?, ?it/s]"
      ]
     },
     "metadata": {},
     "output_type": "display_data"
    },
    {
     "data": {
      "application/vnd.jupyter.widget-view+json": {
       "model_id": "ba04235ccfef4f1797367b9ba330eed6",
       "version_major": 2,
       "version_minor": 0
      },
      "text/plain": [
       "  0%|          | 0/100 [00:00<?, ?it/s]"
      ]
     },
     "metadata": {},
     "output_type": "display_data"
    },
    {
     "name": "stdout",
     "output_type": "stream",
     "text": [
      "EPOCH: 2 -----------------------------------\n"
     ]
    },
    {
     "data": {
      "application/vnd.jupyter.widget-view+json": {
       "model_id": "398646d264c244fabcf24c1c5cae6d87",
       "version_major": 2,
       "version_minor": 0
      },
      "text/plain": [
       "  0%|          | 0/900 [00:00<?, ?it/s]"
      ]
     },
     "metadata": {},
     "output_type": "display_data"
    },
    {
     "data": {
      "application/vnd.jupyter.widget-view+json": {
       "model_id": "6146552eae204831842f325d72a54f46",
       "version_major": 2,
       "version_minor": 0
      },
      "text/plain": [
       "  0%|          | 0/100 [00:00<?, ?it/s]"
      ]
     },
     "metadata": {},
     "output_type": "display_data"
    },
    {
     "name": "stdout",
     "output_type": "stream",
     "text": [
      "EPOCH: 3 -----------------------------------\n"
     ]
    },
    {
     "data": {
      "application/vnd.jupyter.widget-view+json": {
       "model_id": "114877f39edc4d388e27376796a0759e",
       "version_major": 2,
       "version_minor": 0
      },
      "text/plain": [
       "  0%|          | 0/900 [00:00<?, ?it/s]"
      ]
     },
     "metadata": {},
     "output_type": "display_data"
    },
    {
     "data": {
      "application/vnd.jupyter.widget-view+json": {
       "model_id": "956774a487404671a24d0ff2ea9c8fd9",
       "version_major": 2,
       "version_minor": 0
      },
      "text/plain": [
       "  0%|          | 0/100 [00:00<?, ?it/s]"
      ]
     },
     "metadata": {},
     "output_type": "display_data"
    },
    {
     "name": "stdout",
     "output_type": "stream",
     "text": [
      "EPOCH: 4 -----------------------------------\n"
     ]
    },
    {
     "data": {
      "application/vnd.jupyter.widget-view+json": {
       "model_id": "017519db05b34bae9403d61ca8d751c0",
       "version_major": 2,
       "version_minor": 0
      },
      "text/plain": [
       "  0%|          | 0/900 [00:00<?, ?it/s]"
      ]
     },
     "metadata": {},
     "output_type": "display_data"
    },
    {
     "data": {
      "application/vnd.jupyter.widget-view+json": {
       "model_id": "1ececcc8090f47e794b4a9c6c3c487bc",
       "version_major": 2,
       "version_minor": 0
      },
      "text/plain": [
       "  0%|          | 0/100 [00:00<?, ?it/s]"
      ]
     },
     "metadata": {},
     "output_type": "display_data"
    },
    {
     "name": "stdout",
     "output_type": "stream",
     "text": [
      "EPOCH: 5 -----------------------------------\n"
     ]
    },
    {
     "data": {
      "application/vnd.jupyter.widget-view+json": {
       "model_id": "12af5e3265b842b4b16ae4ed27e5b7a7",
       "version_major": 2,
       "version_minor": 0
      },
      "text/plain": [
       "  0%|          | 0/900 [00:00<?, ?it/s]"
      ]
     },
     "metadata": {},
     "output_type": "display_data"
    },
    {
     "data": {
      "application/vnd.jupyter.widget-view+json": {
       "model_id": "8ee97dc7cbad4bcab2f93e45b1081532",
       "version_major": 2,
       "version_minor": 0
      },
      "text/plain": [
       "  0%|          | 0/100 [00:00<?, ?it/s]"
      ]
     },
     "metadata": {},
     "output_type": "display_data"
    },
    {
     "name": "stdout",
     "output_type": "stream",
     "text": [
      "False, [True, False, True]:503\n",
      "EPOCH: 1 -----------------------------------\n"
     ]
    },
    {
     "data": {
      "application/vnd.jupyter.widget-view+json": {
       "model_id": "4e373ef303934d008ec506f79c9305e1",
       "version_major": 2,
       "version_minor": 0
      },
      "text/plain": [
       "  0%|          | 0/900 [00:00<?, ?it/s]"
      ]
     },
     "metadata": {},
     "output_type": "display_data"
    },
    {
     "data": {
      "application/vnd.jupyter.widget-view+json": {
       "model_id": "a50da5623f4f4788bfaec408e19df30c",
       "version_major": 2,
       "version_minor": 0
      },
      "text/plain": [
       "  0%|          | 0/100 [00:00<?, ?it/s]"
      ]
     },
     "metadata": {},
     "output_type": "display_data"
    },
    {
     "name": "stdout",
     "output_type": "stream",
     "text": [
      "EPOCH: 2 -----------------------------------\n"
     ]
    },
    {
     "data": {
      "application/vnd.jupyter.widget-view+json": {
       "model_id": "e90ceafa7aff4502a1c239bb13e3b6ac",
       "version_major": 2,
       "version_minor": 0
      },
      "text/plain": [
       "  0%|          | 0/900 [00:00<?, ?it/s]"
      ]
     },
     "metadata": {},
     "output_type": "display_data"
    },
    {
     "data": {
      "application/vnd.jupyter.widget-view+json": {
       "model_id": "6d24176e26d043bcbddb3c31569c23ad",
       "version_major": 2,
       "version_minor": 0
      },
      "text/plain": [
       "  0%|          | 0/100 [00:00<?, ?it/s]"
      ]
     },
     "metadata": {},
     "output_type": "display_data"
    },
    {
     "name": "stdout",
     "output_type": "stream",
     "text": [
      "EPOCH: 3 -----------------------------------\n"
     ]
    },
    {
     "data": {
      "application/vnd.jupyter.widget-view+json": {
       "model_id": "8f4dc14a5a95448da57a93deca87377d",
       "version_major": 2,
       "version_minor": 0
      },
      "text/plain": [
       "  0%|          | 0/900 [00:00<?, ?it/s]"
      ]
     },
     "metadata": {},
     "output_type": "display_data"
    },
    {
     "data": {
      "application/vnd.jupyter.widget-view+json": {
       "model_id": "212504cc14044c0cb73c7206eca72926",
       "version_major": 2,
       "version_minor": 0
      },
      "text/plain": [
       "  0%|          | 0/100 [00:00<?, ?it/s]"
      ]
     },
     "metadata": {},
     "output_type": "display_data"
    },
    {
     "name": "stdout",
     "output_type": "stream",
     "text": [
      "EPOCH: 4 -----------------------------------\n"
     ]
    },
    {
     "data": {
      "application/vnd.jupyter.widget-view+json": {
       "model_id": "185991926864483a8b159e79f17f5b0e",
       "version_major": 2,
       "version_minor": 0
      },
      "text/plain": [
       "  0%|          | 0/900 [00:00<?, ?it/s]"
      ]
     },
     "metadata": {},
     "output_type": "display_data"
    },
    {
     "data": {
      "application/vnd.jupyter.widget-view+json": {
       "model_id": "2c50a55183e445bdbd8e940a33bee09f",
       "version_major": 2,
       "version_minor": 0
      },
      "text/plain": [
       "  0%|          | 0/100 [00:00<?, ?it/s]"
      ]
     },
     "metadata": {},
     "output_type": "display_data"
    },
    {
     "name": "stdout",
     "output_type": "stream",
     "text": [
      "EPOCH: 5 -----------------------------------\n"
     ]
    },
    {
     "data": {
      "application/vnd.jupyter.widget-view+json": {
       "model_id": "0a522f3af49f4aae94a64e649e548f7e",
       "version_major": 2,
       "version_minor": 0
      },
      "text/plain": [
       "  0%|          | 0/900 [00:00<?, ?it/s]"
      ]
     },
     "metadata": {},
     "output_type": "display_data"
    },
    {
     "data": {
      "application/vnd.jupyter.widget-view+json": {
       "model_id": "a1497894db8c4d0dae62f73a99648859",
       "version_major": 2,
       "version_minor": 0
      },
      "text/plain": [
       "  0%|          | 0/100 [00:00<?, ?it/s]"
      ]
     },
     "metadata": {},
     "output_type": "display_data"
    },
    {
     "name": "stdout",
     "output_type": "stream",
     "text": [
      "False, [True, True, False]:522\n",
      "EPOCH: 1 -----------------------------------\n"
     ]
    },
    {
     "data": {
      "application/vnd.jupyter.widget-view+json": {
       "model_id": "af900b78f9794bb693c8d992932b4561",
       "version_major": 2,
       "version_minor": 0
      },
      "text/plain": [
       "  0%|          | 0/900 [00:00<?, ?it/s]"
      ]
     },
     "metadata": {},
     "output_type": "display_data"
    },
    {
     "data": {
      "application/vnd.jupyter.widget-view+json": {
       "model_id": "873ab75f24594c6da821045e73d93a11",
       "version_major": 2,
       "version_minor": 0
      },
      "text/plain": [
       "  0%|          | 0/100 [00:00<?, ?it/s]"
      ]
     },
     "metadata": {},
     "output_type": "display_data"
    },
    {
     "name": "stdout",
     "output_type": "stream",
     "text": [
      "EPOCH: 2 -----------------------------------\n"
     ]
    },
    {
     "data": {
      "application/vnd.jupyter.widget-view+json": {
       "model_id": "a1d6436575264266aefb5e9f1cf6e839",
       "version_major": 2,
       "version_minor": 0
      },
      "text/plain": [
       "  0%|          | 0/900 [00:00<?, ?it/s]"
      ]
     },
     "metadata": {},
     "output_type": "display_data"
    },
    {
     "data": {
      "application/vnd.jupyter.widget-view+json": {
       "model_id": "1f74a5754ba541a6a8427ddbbe436919",
       "version_major": 2,
       "version_minor": 0
      },
      "text/plain": [
       "  0%|          | 0/100 [00:00<?, ?it/s]"
      ]
     },
     "metadata": {},
     "output_type": "display_data"
    },
    {
     "name": "stdout",
     "output_type": "stream",
     "text": [
      "EPOCH: 3 -----------------------------------\n"
     ]
    },
    {
     "data": {
      "application/vnd.jupyter.widget-view+json": {
       "model_id": "ff2ec73c6f5045abb53175cc0f73853f",
       "version_major": 2,
       "version_minor": 0
      },
      "text/plain": [
       "  0%|          | 0/900 [00:00<?, ?it/s]"
      ]
     },
     "metadata": {},
     "output_type": "display_data"
    },
    {
     "data": {
      "application/vnd.jupyter.widget-view+json": {
       "model_id": "14d5cdba500e49cf88210dbbc90f51ba",
       "version_major": 2,
       "version_minor": 0
      },
      "text/plain": [
       "  0%|          | 0/100 [00:00<?, ?it/s]"
      ]
     },
     "metadata": {},
     "output_type": "display_data"
    },
    {
     "name": "stdout",
     "output_type": "stream",
     "text": [
      "EPOCH: 4 -----------------------------------\n"
     ]
    },
    {
     "data": {
      "application/vnd.jupyter.widget-view+json": {
       "model_id": "ef82d5e58103462c9f62fe22d8995644",
       "version_major": 2,
       "version_minor": 0
      },
      "text/plain": [
       "  0%|          | 0/900 [00:00<?, ?it/s]"
      ]
     },
     "metadata": {},
     "output_type": "display_data"
    },
    {
     "name": "stderr",
     "output_type": "stream",
     "text": [
      "Exception ignored in: <function _MultiProcessingDataLoaderIter.__del__ at 0x7fd61597caf0>\n",
      "Traceback (most recent call last):\n",
      "  File \"/home/ssilver/.local/lib/python3.9/site-packages/torch/utils/data/dataloader.py\", line 1328, in __del__\n",
      "    self._shutdown_workers()\n",
      "  File \"/home/ssilver/.local/lib/python3.9/site-packages/torch/utils/data/dataloader.py\", line 1301, in _shutdown_workers\n",
      "    w.join(timeout=_utils.MP_STATUS_CHECK_INTERVAL)\n",
      "  File \"/opt/conda/lib/python3.9/multiprocessing/process.py\", line 149, in join\n",
      "    res = self._popen.wait(timeout)\n",
      "  File \"/opt/conda/lib/python3.9/multiprocessing/popen_fork.py\", line 40, in wait\n",
      "    if not wait([self.sentinel], timeout):\n",
      "  File \"/opt/conda/lib/python3.9/multiprocessing/connection.py\", line 936, in wait\n",
      "    ready = selector.select(timeout)\n",
      "  File \"/opt/conda/lib/python3.9/selectors.py\", line 416, in select\n",
      "    fd_event_list = self._selector.poll(timeout)\n",
      "KeyboardInterrupt: \n"
     ]
    },
    {
     "ename": "KeyboardInterrupt",
     "evalue": "",
     "output_type": "error",
     "traceback": [
      "\u001b[0;31m---------------------------------------------------------------------------\u001b[0m",
      "\u001b[0;31mKeyboardInterrupt\u001b[0m                         Traceback (most recent call last)",
      "\u001b[0;32m/tmp/ipykernel_45598/677211216.py\u001b[0m in \u001b[0;36m<module>\u001b[0;34m\u001b[0m\n\u001b[1;32m     47\u001b[0m \u001b[0;34m\u001b[0m\u001b[0m\n\u001b[1;32m     48\u001b[0m         \u001b[0mprint\u001b[0m\u001b[0;34m(\u001b[0m\u001b[0;34m\"EPOCH: {} -----------------------------------\"\u001b[0m\u001b[0;34m.\u001b[0m\u001b[0mformat\u001b[0m\u001b[0;34m(\u001b[0m\u001b[0mepoch\u001b[0m\u001b[0;34m)\u001b[0m\u001b[0;34m)\u001b[0m\u001b[0;34m\u001b[0m\u001b[0;34m\u001b[0m\u001b[0m\n\u001b[0;32m---> 49\u001b[0;31m         \u001b[0mlosses\u001b[0m \u001b[0;34m=\u001b[0m \u001b[0mtrain_func\u001b[0m\u001b[0;34m(\u001b[0m\u001b[0mmodel\u001b[0m\u001b[0;34m,\u001b[0m \u001b[0mdevice\u001b[0m\u001b[0;34m,\u001b[0m \u001b[0mtrain_loader\u001b[0m\u001b[0;34m,\u001b[0m \u001b[0moptimizer\u001b[0m\u001b[0;34m,\u001b[0m \u001b[0mepoch\u001b[0m\u001b[0;34m,\u001b[0m \u001b[0mstars_oh\u001b[0m\u001b[0;34m)\u001b[0m\u001b[0;34m\u001b[0m\u001b[0;34m\u001b[0m\u001b[0m\n\u001b[0m\u001b[1;32m     50\u001b[0m         \u001b[0mall_losses\u001b[0m\u001b[0;34m.\u001b[0m\u001b[0mappend\u001b[0m\u001b[0;34m(\u001b[0m\u001b[0mlosses\u001b[0m\u001b[0;34m)\u001b[0m \u001b[0;31m# per epoch\u001b[0m\u001b[0;34m\u001b[0m\u001b[0;34m\u001b[0m\u001b[0m\n\u001b[1;32m     51\u001b[0m         \u001b[0mval_mse\u001b[0m \u001b[0;34m=\u001b[0m \u001b[0mval_func\u001b[0m\u001b[0;34m(\u001b[0m\u001b[0mmodel\u001b[0m\u001b[0;34m,\u001b[0m \u001b[0mdevice\u001b[0m\u001b[0;34m,\u001b[0m \u001b[0mval_loader\u001b[0m\u001b[0;34m,\u001b[0m \u001b[0mstars_oh\u001b[0m\u001b[0;34m)\u001b[0m\u001b[0;34m\u001b[0m\u001b[0;34m\u001b[0m\u001b[0m\n",
      "\u001b[0;32m/tmp/ipykernel_45598/1132338338.py\u001b[0m in \u001b[0;36mtrain_func\u001b[0;34m(model, device, train_loader, optimizer, epoch, stars_oh)\u001b[0m\n\u001b[1;32m     29\u001b[0m         \u001b[0moptimizer\u001b[0m\u001b[0;34m.\u001b[0m\u001b[0mstep\u001b[0m\u001b[0;34m(\u001b[0m\u001b[0;34m)\u001b[0m\u001b[0;34m\u001b[0m\u001b[0;34m\u001b[0m\u001b[0m\n\u001b[1;32m     30\u001b[0m \u001b[0;34m\u001b[0m\u001b[0m\n\u001b[0;32m---> 31\u001b[0;31m         \u001b[0mloss_val\u001b[0m \u001b[0;34m=\u001b[0m \u001b[0mloss\u001b[0m\u001b[0;34m.\u001b[0m\u001b[0mitem\u001b[0m\u001b[0;34m(\u001b[0m\u001b[0;34m)\u001b[0m\u001b[0;34m\u001b[0m\u001b[0;34m\u001b[0m\u001b[0m\n\u001b[0m\u001b[1;32m     32\u001b[0m         \u001b[0mtotal\u001b[0m \u001b[0;34m+=\u001b[0m \u001b[0mloss_val\u001b[0m\u001b[0;34m\u001b[0m\u001b[0;34m\u001b[0m\u001b[0m\n\u001b[1;32m     33\u001b[0m         \u001b[0mcount\u001b[0m \u001b[0;34m+=\u001b[0m \u001b[0;36m1\u001b[0m\u001b[0;34m\u001b[0m\u001b[0;34m\u001b[0m\u001b[0m\n",
      "\u001b[0;31mKeyboardInterrupt\u001b[0m: "
     ]
    }
   ],
   "source": [
    "learning_rate = 0.0001\n",
    "momentum = 0.5\n",
    "device = \"cuda\"\n",
    "batch_sz = 100\n",
    "num_epoch = 5\n",
    "\n",
    "experiments = [\n",
    "    (False, [True, True, True]),\n",
    "    (False, [False, True, True]),\n",
    "    (False, [True, False, True]),\n",
    "    (False, [True, True, False]),\n",
    "]\n",
    "\n",
    "experiment_losses_b = []\n",
    "for stars_oh, experiment in experiments:\n",
    "    input_vector_size = len(get_feat(data[0], experiment))\n",
    "    print(f\"{stars_oh}, {experiment}:{input_vector_size}\")\n",
    "    \n",
    "    model = SimilarityModel(input_vector_size, stars_oh).to(device) #using cpu here\n",
    "    optimizer = optim.AdamW(model.parameters(), lr=learning_rate)\n",
    "    \n",
    "    \n",
    "    train_data = ThingDataset(train, experiment, stars_oh)\n",
    "    val_data = ThingDataset(val, experiment, stars_oh)\n",
    "\n",
    "    train_loader = DataLoader(train_data, batch_size=batch_sz, shuffle = True, collate_fn=my_collate, num_workers=4)\n",
    "    val_loader = DataLoader(val_data, batch_size=batch_sz, shuffle = True, collate_fn=my_collate, num_workers=4)\n",
    "\n",
    "#     total = 0\n",
    "#     count = 0\n",
    "#     for v in val_loader:\n",
    "#         feat, target = v\n",
    "#         total += sum([s for s in target])\n",
    "#         count += len(target)\n",
    "#     print(f\"average: {total / count}\")\n",
    "    \n",
    "    \n",
    "    \n",
    "    PATH = f\"a2_{experiment}.pth\"\n",
    "\n",
    "    all_losses = []\n",
    "    best_val =  100000\n",
    "    best_model = None\n",
    "    for epoch in range(1, num_epoch + 1):\n",
    "        if epoch != 1:\n",
    "            model.load_state_dict(torch.load(PATH))\n",
    "        \n",
    "        print(\"EPOCH: {} -----------------------------------\".format(epoch))\n",
    "        losses = train_func(model, device, train_loader, optimizer, epoch, stars_oh)\n",
    "        all_losses.append(losses) # per epoch\n",
    "        val_mse = val_func(model, device, val_loader, stars_oh)\n",
    "        if val_mse <  best_val:\n",
    "            best_val  =  val_mse\n",
    "            state = model.state_dict()\n",
    "            best_model = state\n",
    "            torch.save(state, PATH)\n",
    "    experiment_losses_b.append(all_losses)"
   ]
  },
  {
   "cell_type": "code",
   "execution_count": null,
   "metadata": {},
   "outputs": [],
   "source": []
  },
  {
   "cell_type": "code",
   "execution_count": null,
   "metadata": {},
   "outputs": [],
   "source": []
  },
  {
   "cell_type": "code",
   "execution_count": null,
   "metadata": {},
   "outputs": [],
   "source": [
    "allRatings = []\n",
    "userRatings = defaultdict(list)\n",
    "\n",
    "for d in train:\n",
    "    uid = d[\"user\"]\n",
    "    r = int(d['stars'])\n",
    "    allRatings.append(r)\n",
    "    userRatings[uid].append(r)"
   ]
  },
  {
   "cell_type": "code",
   "execution_count": null,
   "metadata": {},
   "outputs": [],
   "source": [
    "globalAverage = sum(allRatings) / len(allRatings)\n",
    "userAverage = {}\n",
    "for u in userRatings:\n",
    "    userAverage[u] = sum(userRatings[u]) / len(userRatings[u])\n",
    "        \n",
    "count = 0\n",
    "total = 0\n",
    "for d in val:\n",
    "    uid = d[\"user\"]\n",
    "    if uid in userAverage:\n",
    "        pred = userAverage[u]\n",
    "    else:\n",
    "        pred = globalAverage\n",
    "    count += (pred - d[\"stars\"]) ** 2\n",
    "    total += 1\n",
    "\n",
    "print(f\"Baseline performance on val: {count/total}\")"
   ]
  },
  {
   "cell_type": "code",
   "execution_count": null,
   "metadata": {},
   "outputs": [],
   "source": [
    "rating_stars = {}\n",
    "for d in train:\n",
    "    r = int(d['stars'])\n",
    "    rating_stars[r] = 0\n",
    "print(rating_stars)"
   ]
  },
  {
   "cell_type": "code",
   "execution_count": null,
   "metadata": {},
   "outputs": [],
   "source": []
  },
  {
   "cell_type": "code",
   "execution_count": null,
   "metadata": {},
   "outputs": [],
   "source": []
  },
  {
   "cell_type": "code",
   "execution_count": null,
   "metadata": {},
   "outputs": [],
   "source": []
  },
  {
   "cell_type": "code",
   "execution_count": null,
   "metadata": {},
   "outputs": [],
   "source": []
  },
  {
   "cell_type": "code",
   "execution_count": null,
   "metadata": {},
   "outputs": [],
   "source": []
  }
 ],
 "metadata": {
  "interpreter": {
   "hash": "2d45bbaad61a7b5928d708b105b315129c20a0649ca66cbea84bc24f08316dfd"
  },
  "kernelspec": {
   "display_name": "Python 3 (ipykernel)",
   "language": "python",
   "name": "python3"
  },
  "language_info": {
   "codemirror_mode": {
    "name": "ipython",
    "version": 3
   },
   "file_extension": ".py",
   "mimetype": "text/x-python",
   "name": "python",
   "nbconvert_exporter": "python",
   "pygments_lexer": "ipython3",
   "version": "3.9.5"
  }
 },
 "nbformat": 4,
 "nbformat_minor": 2
}
