{
 "cells": [
  {
   "cell_type": "code",
   "execution_count": 1,
   "metadata": {},
   "outputs": [],
   "source": [
    "import numpy as np\n",
    "import matplotlib.pyplot as plt\n",
    "import pandas as pd\n",
    "import gzip\n",
    "import pickle\n",
    "from collections import defaultdict\n",
    "import operator\n",
    "import string\n",
    "from tqdm.notebook import tqdm\n",
    "import torch\n",
    "import matplotlib.pyplot as plt\n",
    "import copy"
   ]
  },
  {
   "cell_type": "code",
   "execution_count": 2,
   "metadata": {},
   "outputs": [],
   "source": [
    "def parse(path):\n",
    "    g = open(path, 'r')\n",
    "    for l in g:\n",
    "        yield eval(l)\n",
    "\n",
    "data = list(parse(\"lthing_data/reviews.json\"))\n",
    "relationships = [l.replace(\"\\n\", \"\").split(\" \") for l in open(\"lthing_data/edges.txt\").readlines()]"
   ]
  },
  {
   "cell_type": "code",
   "execution_count": 3,
   "metadata": {},
   "outputs": [
    {
     "data": {
      "application/vnd.jupyter.widget-view+json": {
       "model_id": "185dd897cb0c495f844049ea89c79633",
       "version_major": 2,
       "version_minor": 0
      },
      "text/plain": [
       "  0%|          | 0/1707070 [00:00<?, ?it/s]"
      ]
     },
     "metadata": {},
     "output_type": "display_data"
    },
    {
     "name": "stdout",
     "output_type": "stream",
     "text": [
      "{'work': '3206242', 'flags': [], 'unixtime': 1194393600, 'stars': 5.0, 'nhelpful': 0, 'time': 'Nov 7, 2007', 'comment': 'This a great book for young readers to be introduced to the world of Middle Earth. ', 'user': 'van_stef'}\n",
      "['Rodo', 'anehan']\n"
     ]
    }
   ],
   "source": [
    "data_new = []\n",
    "\n",
    "for d in tqdm(data):\n",
    "    if \"stars\" in d:\n",
    "        data_new.append(d)\n",
    "data = data_new[:100000]\n",
    "\n",
    "# data.sort(reverse=True, key = lambda x: x[\"unixtime\"])\n",
    "print(data[0])\n",
    "print(relationships[0])"
   ]
  },
  {
   "cell_type": "code",
   "execution_count": 4,
   "metadata": {},
   "outputs": [
    {
     "data": {
      "application/vnd.jupyter.widget-view+json": {
       "model_id": "a1ef1d57f29a4404b7da44e0add32d68",
       "version_major": 2,
       "version_minor": 0
      },
      "text/plain": [
       "  0%|          | 0/100000 [00:00<?, ?it/s]"
      ]
     },
     "metadata": {},
     "output_type": "display_data"
    },
    {
     "data": {
      "application/vnd.jupyter.widget-view+json": {
       "model_id": "c6e0cafab55b4793932a693f9bed6861",
       "version_major": 2,
       "version_minor": 0
      },
      "text/plain": [
       "  0%|          | 0/219790 [00:00<?, ?it/s]"
      ]
     },
     "metadata": {},
     "output_type": "display_data"
    }
   ],
   "source": [
    "# Data:\n",
    "userItemRating = {}\n",
    "usersPerItem = defaultdict(set) # Maps an item to the users who rated it\n",
    "itemsPerUser = defaultdict(set) # Maps a user to the items that they rated\n",
    "\n",
    "for read in tqdm(data):\n",
    "    uid, bid = read['user'], read['work']\n",
    "    if \"stars\" in read:\n",
    "        userItemRating[(uid, bid)] = read['stars']\n",
    "    usersPerItem[bid].add(uid)\n",
    "    itemsPerUser[uid].add(bid)\n",
    "    \n",
    "\n",
    "def cosine_similarity(v1, v2):\n",
    "    denom = (np.linalg.norm(v1) * np.linalg.norm(v2))\n",
    "    if denom == 0:\n",
    "        return 0\n",
    "    else:\n",
    "        return np.dot(v1, v2) / denom\n",
    "    \n",
    "# find similarity between users on the basis of the ratings they give to books\n",
    "def user_similarity(u1, u2):\n",
    "    u1_books = itemsPerUser[u1]\n",
    "    u2_books = itemsPerUser[u2]\n",
    "    all_books = u1_books.union(u2_books)\n",
    "    u1_ratings = []\n",
    "    u2_ratings = []\n",
    "    for b in all_books:\n",
    "        if (u1, b) in userItemRating:\n",
    "            u1_ratings.append(userItemRating[(u1, b)])\n",
    "        else:\n",
    "            u1_ratings.append(0)\n",
    "        if (u2, b) in userItemRating:\n",
    "            u2_ratings.append(userItemRating[(u2, b)])\n",
    "        else:\n",
    "            u2_ratings.append(0)\n",
    "    return cosine_similarity(u1_ratings, u2_ratings)\n",
    "\n",
    "# Relationships:\n",
    "usersPerUser = defaultdict(set) # Maps an item to the users who rated it\n",
    "for relationship in tqdm(relationships):\n",
    "    u1, u2 = relationship\n",
    "    userSim = user_similarity(u1, u2)\n",
    "    usersPerUser[u1].add((userSim, u2))\n",
    "    usersPerUser[u2].add((userSim, u1))\n",
    "    \n",
    "for u in usersPerUser:\n",
    "    usersPerUser[u] = list(usersPerUser[u])\n",
    "    usersPerUser[u].sort(reverse=True)"
   ]
  },
  {
   "cell_type": "code",
   "execution_count": 5,
   "metadata": {},
   "outputs": [],
   "source": [
    "train_split = int(0.9 * len(data))\n",
    "train = data[:train_split]\n",
    "val = data[train_split:]"
   ]
  },
  {
   "cell_type": "markdown",
   "metadata": {},
   "source": [
    "### N-Grams"
   ]
  },
  {
   "cell_type": "code",
   "execution_count": 6,
   "metadata": {},
   "outputs": [
    {
     "data": {
      "application/vnd.jupyter.widget-view+json": {
       "model_id": "f2ec92eb00894a9eb03bf0e51ee0d2fb",
       "version_major": 2,
       "version_minor": 0
      },
      "text/plain": [
       "  0%|          | 0/90000 [00:00<?, ?it/s]"
      ]
     },
     "metadata": {},
     "output_type": "display_data"
    },
    {
     "data": {
      "application/vnd.jupyter.widget-view+json": {
       "model_id": "6c4b12057f5d4afbb2fa9966a47cd9b8",
       "version_major": 2,
       "version_minor": 0
      },
      "text/plain": [
       "  0%|          | 0/279838 [00:00<?, ?it/s]"
      ]
     },
     "metadata": {},
     "output_type": "display_data"
    },
    {
     "data": {
      "application/vnd.jupyter.widget-view+json": {
       "model_id": "1fdec3f0e33748e88f90fded3baa45d8",
       "version_major": 2,
       "version_minor": 0
      },
      "text/plain": [
       "  0%|          | 0/90000 [00:00<?, ?it/s]"
      ]
     },
     "metadata": {},
     "output_type": "display_data"
    }
   ],
   "source": [
    "unigrams = {}\n",
    "bigrams ={}\n",
    "\n",
    "for d in tqdm(train):\n",
    "    review = d[\"comment\"].lower().translate(str.maketrans('', '', string.punctuation))\n",
    "    d_unigrams = review.split()\n",
    "#     d_bigrams = list(zip(d_unigrams[:-1], d_unigrams[1:]))\n",
    "    \n",
    "    for ug in d_unigrams:\n",
    "        if ug in unigrams:\n",
    "            unigrams[ug] += 1\n",
    "        else:\n",
    "            unigrams[ug] = 1\n",
    "            \n",
    "#     for bg in d_bigrams:\n",
    "#         if bg in bigrams:\n",
    "#             bigrams[bg] += 1\n",
    "#         else:\n",
    "#             bigrams[bg] = 1\n",
    "            \n",
    "list_unigrams = [(k, v) for k, v in tqdm(unigrams.items())]\n",
    "list_unigrams.sort(reverse=True, key=operator.itemgetter(1))\n",
    "unigrams = [k for k, v in list_unigrams]\n",
    "ugId = dict(zip(unigrams, range(len(unigrams))))\n",
    "\n",
    "N=500\n",
    "unigrams_set = set(unigrams[:N])\n",
    "\n",
    "unigram_feats = {}\n",
    "for datum in tqdm(train):\n",
    "    work = datum[\"work\"]\n",
    "    if work in unigram_feats:\n",
    "        feat = unigram_feats[work]\n",
    "    else:\n",
    "        feat = ([0] * N)\n",
    "        feat.append(1)\n",
    "    review = datum[\"comment\"].lower().translate(str.maketrans('', '', string.punctuation))\n",
    "    d_unigrams = review.split()\n",
    "    for ug in d_unigrams:\n",
    "        if ug in unigrams_set:\n",
    "            index = ugId[ug]\n",
    "            feat[index] += 1\n",
    "    unigram_feats[work] = feat\n",
    "\n",
    "# list_bigrams = [(k, v) for k, v in tqdm(bigrams.items())]\n",
    "# list_bigrams .sort(reverse=True, key=operator.itemgetter(1))\n",
    "# bigrams = [k for k, v in list_bigrams]\n",
    "# bgId = dict(zip(bigrams, range(len(bigrams))))\n",
    "\n",
    "# list_unigrams_bigrams = list_unigrams + list_bigrams\n",
    "# list_unigrams_bigrams.sort(reverse=True, key=operator.itemgetter(1))\n",
    "# unigrams_bigrams = [k for k, v in list_unigrams_bigrams]\n",
    "# ugbgId = dict(zip(unigrams_bigrams, range(len(unigrams_bigrams))))\n",
    "\n",
    "# with open('unigrams.pickle', 'wb') as handle:\n",
    "#     pickle.dump(unigrams, handle, protocol=pickle.HIGHEST_PROTOCOL)\n",
    "# with open('ugId.pickle', 'wb') as handle:\n",
    "#     pickle.dump(ugId, handle, protocol=pickle.HIGHEST_PROTOCOL)\n",
    "    \n",
    "# with open('bigrams.pickle', 'wb') as handle:\n",
    "#     pickle.dump(bigrams, handle, protocol=pickle.HIGHEST_PROTOCOL)\n",
    "# with open('bgId.pickle', 'wb') as handle:\n",
    "#     pickle.dump(bgId, handle, protocol=pickle.HIGHEST_PROTOCOL)\n",
    "\n",
    "# with open('unigrams_bigrams.pickle', 'wb') as handle:\n",
    "#     pickle.dump(unigrams_bigrams, handle, protocol=pickle.HIGHEST_PROTOCOL)\n",
    "# with open('ugbgId.pickle', 'wb') as handle:\n",
    "#     pickle.dump(ugbgId, handle, protocol=pickle.HIGHEST_PROTOCOL)"
   ]
  },
  {
   "cell_type": "code",
   "execution_count": 7,
   "metadata": {},
   "outputs": [
    {
     "data": {
      "application/vnd.jupyter.widget-view+json": {
       "model_id": "cb8f216615ae43df91c3bf7d69680c73",
       "version_major": 2,
       "version_minor": 0
      },
      "text/plain": [
       "  0%|          | 0/90000 [00:00<?, ?it/s]"
      ]
     },
     "metadata": {},
     "output_type": "display_data"
    },
    {
     "data": {
      "application/vnd.jupyter.widget-view+json": {
       "model_id": "7ccbdbee4b0746f7b007095cf5ba2347",
       "version_major": 2,
       "version_minor": 0
      },
      "text/plain": [
       "  0%|          | 0/90000 [00:00<?, ?it/s]"
      ]
     },
     "metadata": {},
     "output_type": "display_data"
    }
   ],
   "source": [
    "userRatingAverages = {}\n",
    "for t in tqdm(train):\n",
    "    if t[\"user\"]  in userRatingAverages:\n",
    "        total, count = userRatingAverages[t[\"user\"]]\n",
    "        total += t[\"stars\"]\n",
    "        count += 1\n",
    "        userRatingAverages[t[\"user\"]] = (total, count)\n",
    "    else:\n",
    "        total = t[\"stars\"]\n",
    "        count = 1\n",
    "        userRatingAverages[t[\"user\"]] = (total, count)\n",
    "        \n",
    "        \n",
    "for u in userRatingAverages:\n",
    "    total, count = userRatingAverages[u]\n",
    "    userRatingAverages[u] = total/count\n",
    "    \n",
    "global_count = 0\n",
    "global_total = 0\n",
    "global_average = 0    \n",
    "\n",
    "itemRatingAverages = {}\n",
    "for t in tqdm(train):\n",
    "    if t[\"work\"]  in itemRatingAverages:\n",
    "        total, count = itemRatingAverages[t[\"work\"]]\n",
    "        total += t[\"stars\"]\n",
    "        count += 1\n",
    "        itemRatingAverages[t[\"work\"]] = (total, count)\n",
    "    else:\n",
    "        total = t[\"stars\"]\n",
    "        count = 1\n",
    "        itemRatingAverages[t[\"work\"]] = (total, count)\n",
    "        \n",
    "    global_total += t[\"stars\"]\n",
    "    global_count += 1\n",
    "    \n",
    "global_average = global_total / global_count\n",
    "        \n",
    "for u in itemRatingAverages:\n",
    "    total, count = itemRatingAverages[u]\n",
    "    itemRatingAverages[u] = total/count"
   ]
  },
  {
   "cell_type": "markdown",
   "metadata": {},
   "source": [
    "### N-Gram Features:"
   ]
  },
  {
   "cell_type": "code",
   "execution_count": 8,
   "metadata": {},
   "outputs": [],
   "source": [
    "def unigrams_feat(datum, N):\n",
    "    review = datum[\"comment\"].lower().translate(str.maketrans('', '', string.punctuation))\n",
    "    d_unigrams = review.split()\n",
    "    feat = [0] * N\n",
    "    unigrams_set = set(unigrams[:N])\n",
    "    for ug in d_unigrams:\n",
    "        if ug in unigrams_set:\n",
    "            feat[ugId[ug]] += 1\n",
    "    feat.append(1)\n",
    "    return feat\n",
    "\n",
    "def bigrams_feat(datum, N):\n",
    "    review = datum[\"comment\"].lower().translate(str.maketrans('', '', string.punctuation))\n",
    "    d_unigrams = review.split()\n",
    "    d_bigrams = list(zip(d_unigrams[:-1], d_unigrams[1:]))\n",
    "    feat = [0] * N\n",
    "    bigrams_set = set(bigrams[:N])\n",
    "    for bg in d_bigrams:\n",
    "        if bg in bigrams_set:\n",
    "            feat[bgId[bg]] += 1\n",
    "    feat.append(1)\n",
    "    return feat\n",
    "\n",
    "def unigrams_bigrams_feat(datum, N):\n",
    "    review = datum[\"comment\"].lower().translate(str.maketrans('', '', string.punctuation))\n",
    "    d_unigrams = review.split()\n",
    "    d_bigrams = list(zip(d_unigrams[:-1], d_unigrams[1:]))\n",
    "    d_unigrams_bigrams  = d_unigrams + d_bigrams\n",
    "    feat = [0] * N\n",
    "    unigrams_bigrams_set = set(unigrams_bigrams[:N])\n",
    "    for ugbg in d_unigrams_bigrams:\n",
    "        if ugbg in unigrams_bigrams_set:\n",
    "            feat[ugbgId[ugbg]] += 1\n",
    "    feat.append(1)\n",
    "    return feat\n",
    "\n",
    "def label(datum):\n",
    "    return datum[\"rating\"]"
   ]
  },
  {
   "cell_type": "markdown",
   "metadata": {},
   "source": [
    "### Relationship Features:"
   ]
  },
  {
   "cell_type": "code",
   "execution_count": 9,
   "metadata": {},
   "outputs": [
    {
     "name": "stdout",
     "output_type": "stream",
     "text": [
      "[0. 0. 0. 0. 0. 0. 0. 0. 0. 0. 1.]\n"
     ]
    }
   ],
   "source": [
    "def Jaccard(s1, s2):\n",
    "    s1 = set(s1)\n",
    "    s2 = set(s2)\n",
    "    return len(s1.intersection(s2)) / len(s1.union(s2))\n",
    "\n",
    "def getFriendsFeat(datum):\n",
    "    uid, bid = datum[\"user\"], datum[\"work\"]\n",
    "    friends = usersPerUser[uid]\n",
    "    bid_books = usersPerItem[bid]\n",
    "    \n",
    "    feat_friends = []\n",
    "    for sim, f in friends:\n",
    "        f_feat = [1]                                  # is a real user\n",
    "        \n",
    "        f_books = itemsPerUser[f]                    # user rating\n",
    "        if bid in f_books:\n",
    "            f_feat.append(userItemRating[(f, bid)])\n",
    "        else:\n",
    "            f_feat.append(-1)\n",
    "            \n",
    "        f_feat.append(sim)\n",
    "            \n",
    "        f_friends = [ff for sim, ff in usersPerUser[f]]\n",
    "        f_jacc = Jaccard(f_friends, bid_books) # user jacc\n",
    "        f_feat.append(f_jacc)\n",
    "        \n",
    "        feat_friends.append(f_feat)\n",
    "    \n",
    "    if len(feat_friends) < 5:\n",
    "        while(len(feat_friends) < 5):\n",
    "            feat_friends.append([0, -1, 0, 0])\n",
    "    \n",
    "    feat_friends.sort(reverse=True, key=operator.itemgetter(3)) # book sims for friends\n",
    "    feat_friends.sort(reverse=True, key=operator.itemgetter(2)) # similar friends in opinion\n",
    "    feat_friends.sort(reverse=True, key=operator.itemgetter(1)) # friends who had book\n",
    "    feat_friends.sort(reverse=True, key=operator.itemgetter(0)) # real users first\n",
    "        \n",
    "    feat_friends = feat_friends[:5]\n",
    "    return feat_friends\n",
    "\n",
    "# for i in range(10):\n",
    "#     print(getFriendsFeat(data[i]))\n",
    "\n",
    "def getJaccFriendsFeat(datum):\n",
    "    uid, bid = datum[\"user\"], datum[\"work\"]\n",
    "    if uid in usersPerUser:\n",
    "        s1 = usersPerUser[uid]\n",
    "    else:\n",
    "        s1 = set()\n",
    "    if bid in usersPerItem:\n",
    "        s2 = usersPerItem[bid]\n",
    "    else:\n",
    "        s2 = set()\n",
    "        \n",
    "    return Jaccard(s1, s2)\n",
    "    \n",
    "    \n",
    "def get_feat(datum, experiment):\n",
    "    uf, ff, jf, uaf, iaf = experiment\n",
    "    feat = []\n",
    "    \n",
    "    if uf:\n",
    "        work = datum[\"work\"]\n",
    "        if work in unigram_feats:\n",
    "            feat = np.array(copy.deepcopy(unigram_feats[datum[\"work\"]]))\n",
    "        else:\n",
    "            feat = np.zeros((N + 1))\n",
    "            \n",
    "    if ff:\n",
    "        friends_feats = getFriendsFeat(datum)\n",
    "        for f in friends_feats:\n",
    "            for i in f:\n",
    "                feat = np.append(feat, i)\n",
    "                \n",
    "    if jf:\n",
    "        jacc = getJaccFriendsFeat(datum)\n",
    "        feat  = np.append(feat, jacc)\n",
    "        \n",
    "    if uaf:\n",
    "        if datum[\"user\"] in userRatingAverages:\n",
    "            feat = np.append(feat, userRatingAverages[datum[\"user\"]])\n",
    "        else:\n",
    "            feat = np.append(feat, global_average)\n",
    "            \n",
    "    if uaf:\n",
    "        if datum[\"work\"] in itemRatingAverages:\n",
    "            feat = np.append(feat, itemRatingAverages[datum[\"work\"]])\n",
    "        else:\n",
    "            feat = np.append(feat, global_average)\n",
    "    \n",
    "    feat  = np.append(feat,  1)\n",
    "            \n",
    "    return feat\n",
    "\n",
    "# print(len(get_feat(data[0], [True, False, False])))\n",
    "\n",
    "def get_stars_one_hot(stars):\n",
    "    stars = int(stars)\n",
    "    out = np.zeros((6))\n",
    "    out[stars] = 1\n",
    "    return out\n",
    "\n",
    "test = np.zeros((10))\n",
    "print(np.append(test, 1))"
   ]
  },
  {
   "cell_type": "code",
   "execution_count": 10,
   "metadata": {},
   "outputs": [
    {
     "data": {
      "application/vnd.jupyter.widget-view+json": {
       "model_id": "375ba552002d4f18b4c02437ae7973d2",
       "version_major": 2,
       "version_minor": 0
      },
      "text/plain": [
       "  0%|          | 0/90000 [00:00<?, ?it/s]"
      ]
     },
     "metadata": {},
     "output_type": "display_data"
    },
    {
     "data": {
      "application/vnd.jupyter.widget-view+json": {
       "model_id": "83a97e5100b2482e9cd5bb6bb2fe68d5",
       "version_major": 2,
       "version_minor": 0
      },
      "text/plain": [
       "  0%|          | 0/10000 [00:00<?, ?it/s]"
      ]
     },
     "metadata": {},
     "output_type": "display_data"
    },
    {
     "data": {
      "application/vnd.jupyter.widget-view+json": {
       "model_id": "97c355e4eab746e78215e093b504345f",
       "version_major": 2,
       "version_minor": 0
      },
      "text/plain": [
       "  0%|          | 0/90000 [00:00<?, ?it/s]"
      ]
     },
     "metadata": {},
     "output_type": "display_data"
    },
    {
     "data": {
      "application/vnd.jupyter.widget-view+json": {
       "model_id": "39351c3a435046ac950516bbd9c0654f",
       "version_major": 2,
       "version_minor": 0
      },
      "text/plain": [
       "  0%|          | 0/10000 [00:00<?, ?it/s]"
      ]
     },
     "metadata": {},
     "output_type": "display_data"
    },
    {
     "data": {
      "application/vnd.jupyter.widget-view+json": {
       "model_id": "81b688b1584b44b4b23861f4ea22d7e2",
       "version_major": 2,
       "version_minor": 0
      },
      "text/plain": [
       "  0%|          | 0/90000 [00:00<?, ?it/s]"
      ]
     },
     "metadata": {},
     "output_type": "display_data"
    },
    {
     "data": {
      "application/vnd.jupyter.widget-view+json": {
       "model_id": "245d1804383b4ebb903771e5ae185a7f",
       "version_major": 2,
       "version_minor": 0
      },
      "text/plain": [
       "  0%|          | 0/10000 [00:00<?, ?it/s]"
      ]
     },
     "metadata": {},
     "output_type": "display_data"
    },
    {
     "data": {
      "application/vnd.jupyter.widget-view+json": {
       "model_id": "d711855e3f8b4f0595a1bf3e8b758dab",
       "version_major": 2,
       "version_minor": 0
      },
      "text/plain": [
       "  0%|          | 0/90000 [00:00<?, ?it/s]"
      ]
     },
     "metadata": {},
     "output_type": "display_data"
    },
    {
     "ename": "KeyboardInterrupt",
     "evalue": "",
     "output_type": "error",
     "traceback": [
      "\u001b[0;31m---------------------------------------------------------------------------\u001b[0m",
      "\u001b[0;31mKeyboardInterrupt\u001b[0m                         Traceback (most recent call last)",
      "\u001b[0;32m/tmp/ipykernel_93257/1431181227.py\u001b[0m in \u001b[0;36m<module>\u001b[0;34m\u001b[0m\n\u001b[1;32m     12\u001b[0m     \u001b[0my_train\u001b[0m \u001b[0;34m=\u001b[0m\u001b[0;34m[\u001b[0m\u001b[0;34m]\u001b[0m\u001b[0;34m\u001b[0m\u001b[0;34m\u001b[0m\u001b[0m\n\u001b[1;32m     13\u001b[0m     \u001b[0;32mfor\u001b[0m \u001b[0mt\u001b[0m \u001b[0;32min\u001b[0m \u001b[0mtqdm\u001b[0m\u001b[0;34m(\u001b[0m\u001b[0mtrain\u001b[0m\u001b[0;34m)\u001b[0m\u001b[0;34m:\u001b[0m\u001b[0;34m\u001b[0m\u001b[0;34m\u001b[0m\u001b[0m\n\u001b[0;32m---> 14\u001b[0;31m         \u001b[0mfeat\u001b[0m \u001b[0;34m=\u001b[0m \u001b[0mget_feat\u001b[0m\u001b[0;34m(\u001b[0m\u001b[0mt\u001b[0m\u001b[0;34m,\u001b[0m \u001b[0mexperiment\u001b[0m\u001b[0;34m)\u001b[0m\u001b[0;34m\u001b[0m\u001b[0;34m\u001b[0m\u001b[0m\n\u001b[0m\u001b[1;32m     15\u001b[0m         \u001b[0mX_train\u001b[0m\u001b[0;34m.\u001b[0m\u001b[0mappend\u001b[0m\u001b[0;34m(\u001b[0m\u001b[0mfeat\u001b[0m\u001b[0;34m)\u001b[0m\u001b[0;34m\u001b[0m\u001b[0;34m\u001b[0m\u001b[0m\n\u001b[1;32m     16\u001b[0m         \u001b[0my_train\u001b[0m\u001b[0;34m.\u001b[0m\u001b[0mappend\u001b[0m\u001b[0;34m(\u001b[0m\u001b[0mt\u001b[0m\u001b[0;34m[\u001b[0m\u001b[0;34m\"stars\"\u001b[0m\u001b[0;34m]\u001b[0m\u001b[0;34m)\u001b[0m\u001b[0;34m\u001b[0m\u001b[0;34m\u001b[0m\u001b[0m\n",
      "\u001b[0;32m/tmp/ipykernel_93257/2453482685.py\u001b[0m in \u001b[0;36mget_feat\u001b[0;34m(datum, experiment)\u001b[0m\n\u001b[1;32m     89\u001b[0m             \u001b[0mfeat\u001b[0m \u001b[0;34m=\u001b[0m \u001b[0mnp\u001b[0m\u001b[0;34m.\u001b[0m\u001b[0mappend\u001b[0m\u001b[0;34m(\u001b[0m\u001b[0mfeat\u001b[0m\u001b[0;34m,\u001b[0m \u001b[0mglobal_average\u001b[0m\u001b[0;34m)\u001b[0m\u001b[0;34m\u001b[0m\u001b[0;34m\u001b[0m\u001b[0m\n\u001b[1;32m     90\u001b[0m \u001b[0;34m\u001b[0m\u001b[0m\n\u001b[0;32m---> 91\u001b[0;31m     \u001b[0mfeat\u001b[0m  \u001b[0;34m=\u001b[0m \u001b[0mnp\u001b[0m\u001b[0;34m.\u001b[0m\u001b[0mappend\u001b[0m\u001b[0;34m(\u001b[0m\u001b[0mfeat\u001b[0m\u001b[0;34m,\u001b[0m  \u001b[0;36m1\u001b[0m\u001b[0;34m)\u001b[0m\u001b[0;34m\u001b[0m\u001b[0;34m\u001b[0m\u001b[0m\n\u001b[0m\u001b[1;32m     92\u001b[0m \u001b[0;34m\u001b[0m\u001b[0m\n\u001b[1;32m     93\u001b[0m     \u001b[0;32mreturn\u001b[0m \u001b[0mfeat\u001b[0m\u001b[0;34m\u001b[0m\u001b[0;34m\u001b[0m\u001b[0m\n",
      "\u001b[0;32m<__array_function__ internals>\u001b[0m in \u001b[0;36mappend\u001b[0;34m(*args, **kwargs)\u001b[0m\n",
      "\u001b[0;31mKeyboardInterrupt\u001b[0m: "
     ]
    }
   ],
   "source": [
    "\n",
    "experiments = [\n",
    "    (False, [True, True, True, True, True]),\n",
    "    (False, [False, True, True, True, True]),\n",
    "    (False, [True, False, True, True, True]),\n",
    "    (False, [True, True, False, True, True]),\n",
    "    (False, [True, True, True, False, True]),\n",
    "    (False, [True, True, True, True, False]),\n",
    "]\n",
    "\n",
    "for oh, experiment in experiments:\n",
    "    X_train = []\n",
    "    y_train =[]\n",
    "    for t in tqdm(train):\n",
    "        feat = get_feat(t, experiment)\n",
    "        X_train.append(feat)\n",
    "        y_train.append(t[\"stars\"])\n",
    "\n",
    "    X_val = []\n",
    "    y_val  = []\n",
    "    for t in tqdm(val):\n",
    "        feat = get_feat(t, experiment)\n",
    "        X_val.append(feat)\n",
    "        y_val.append(t[\"stars\"])\n",
    "\n",
    "    \n",
    "    ## regression,  "
   ]
  },
  {
   "cell_type": "code",
   "execution_count": 11,
   "metadata": {},
   "outputs": [],
   "source": [
    "from torch.utils.data import Dataset, DataLoader\n",
    "\n",
    "class ThingDataset(Dataset):\n",
    "    \"\"\"Dataset class for Argoverse\"\"\"\n",
    "    def __init__(self, d, experiment, stars_oh=False):\n",
    "        super(ThingDataset, self).__init__()\n",
    "        self.data = d\n",
    "        self.experiment = experiment\n",
    "        self.stars_oh = stars_oh\n",
    "#         self.all_feats = {}\n",
    "#         for d in tqdm(self.data):\n",
    "#             uid, bid = d[\"user\"], d[\"work\"]\n",
    "#             feat = get_feat(d, [True, False, False])\n",
    "#             self.all_feats[(uid, bid)] = feat\n",
    "        \n",
    "        \n",
    "    def __len__(self):\n",
    "        return len(self.data)\n",
    "\n",
    "    def __getitem__(self, i):\n",
    "        review = self.data[i]\n",
    "        \n",
    "#         feat = self.all_feats[review]\n",
    "        feat = get_feat(review, self.experiment)\n",
    "        \n",
    "        if self.stars_oh:\n",
    "            label = get_stars_one_hot(review[\"stars\"])\n",
    "        else:\n",
    "            label = review[\"stars\"]\n",
    "        \n",
    "        return feat, label\n",
    "\n",
    "def my_collate(batch):\n",
    "    \"\"\" collate lists of samples into batches, create [ batch_sz x agent_sz x seq_len x feature] \"\"\"\n",
    "    feats = [scene[0] for scene in batch]\n",
    "    labels = [scene[1] for scene in batch]\n",
    "    \n",
    "    return [feats, labels]\n",
    "\n",
    "def test_collate(batch):\n",
    "    \"\"\" collate lists of samples into batches, create [ batch_sz x agent_sz x seq_len x feature] \"\"\"\n",
    "    feats = [scene[0] for scene in batch]\n",
    "    \n",
    "    return [feats]"
   ]
  },
  {
   "cell_type": "code",
   "execution_count": 12,
   "metadata": {},
   "outputs": [],
   "source": [
    "import torch.nn as nn\n",
    "import torch.nn.functional as F\n",
    "import torch.optim as optim\n",
    "\n",
    "class SimilarityModel(nn.Module):\n",
    "    def __init__(self, input_vector_size, stars_oh):\n",
    "        super().__init__()\n",
    "        \n",
    "        self.stars_oh = stars_oh\n",
    "        \n",
    "        # FC\n",
    "        self.fc1 = nn.Linear(input_vector_size, 4096)\n",
    "        self.fc2 = nn.Linear(4096, 8192)\n",
    "        self.fc3 = nn.Linear(8192, 4096)\n",
    "        self.fc4 = nn.Linear(4096, 2048)\n",
    "        self.fc5 = nn.Linear(2048, 1024)\n",
    "        self.fc6 = nn.Linear(1024, 512)\n",
    "        self.fc7 = nn.Linear(512, 256)\n",
    "        if stars_oh:\n",
    "            self.fc8 = nn.Linear(256, 6)\n",
    "        else:\n",
    "            self.fc8 = nn.Linear(256, 1)\n",
    "            \n",
    "        self.sig = nn.Sigmoid()\n",
    "        \n",
    "    def forward(self, x):\n",
    "        x = x.float()\n",
    "            \n",
    "        out = F.relu(self.fc1(x))\n",
    "        out = F.relu(self.fc2(out))\n",
    "        out = F.relu(self.fc3(out))\n",
    "        out = F.relu(self.fc4(out))\n",
    "        out = F.relu(self.fc5(out))\n",
    "        out = F.relu(self.fc6(out))\n",
    "        out = self.fc7(out)\n",
    "        out = self.fc8(out)\n",
    "        \n",
    "        if self.stars_oh:\n",
    "            out = self.sig(out)\n",
    "        \n",
    "        return out\n",
    "        "
   ]
  },
  {
   "cell_type": "code",
   "execution_count": 13,
   "metadata": {},
   "outputs": [],
   "source": [
    "import torch.nn as nn\n",
    "import torch.nn.functional as F\n",
    "import torch.optim as optim\n",
    "\n",
    "class RNN(nn.Module):\n",
    "    def __init__(self, input_size=120, num_layers=2, hidden_size=256):\n",
    "        super().__init__()\n",
    "        self.hidden_size = hidden_size\n",
    "        self.num_layers = num_layers\n",
    "        \n",
    "        self.s1 = 512\n",
    "        self.s2 = 1024\n",
    "        self.s3 = 2048\n",
    "        \n",
    "        # Encoder\n",
    "        self.lstm1 = nn.LSTMCell(input_size, self.s1)\n",
    "        self.lstm2 = nn.LSTMCell(self.s1, self.s2)\n",
    "        self.lstm3 = nn.LSTMCell(self.s2, self.s3)\n",
    "        \n",
    "        # Decoder\n",
    "        self.lstm4 = nn.LSTMCell(input_size, self.s1)\n",
    "        self.lstm5 = nn.LSTMCell(self.s1, self.s2)\n",
    "        self.lstm6 = nn.LSTMCell(self.s2, self.s3)\n",
    "        \n",
    "        # FC\n",
    "        self.fc1 = nn.Linear(self.s3, 2048)\n",
    "        self.fc2 = nn.Linear(2048, 1024)\n",
    "        self.fc3 = nn.Linear(1024, 512)\n",
    "        self.fc4 = nn.Linear(512, 256)\n",
    "        self.fc5 = nn.Linear(256, 120)\n",
    "        \n",
    "    def forward(self, x, future=0):\n",
    "        x = x.float()\n",
    "        outputs = []\n",
    "        n_samples = x.size(0)\n",
    "        \n",
    "        ht = torch.zeros(n_samples, self.s1, dtype=torch.float32).to(device)\n",
    "        ct = torch.zeros(n_samples, self.s1, dtype=torch.float32).to(device)\n",
    "        ht2 = torch.zeros(n_samples, self.s2, dtype=torch.float32).to(device)\n",
    "        ct2 = torch.zeros(n_samples, self.s2, dtype=torch.float32).to(device)\n",
    "        ht3 = torch.zeros(n_samples, self.s3, dtype=torch.float32).to(device)\n",
    "        ct3 = torch.zeros(n_samples, self.s3, dtype=torch.float32).to(device)\n",
    "        for input_t in x.split(1, dim=1):\n",
    "            input_t = input_t.reshape((n_samples, 120))\n",
    "            ht, ct = self.lstm1(input_t, (ht, ct))\n",
    "            ht2, ct2 = self.lstm2(ht, (ht2, ct2))\n",
    "#             ht3, ct3 = self.lstm3(ht2, (ht3, ct3))\n",
    "            out = input_t\n",
    "        \n",
    "        for i in range(future):\n",
    "            ht, ct = self.lstm4(out, (ht, ct))\n",
    "            ht2, ct2 = self.lstm5(ht, (ht2, ct2))\n",
    "#             ht3, ct3 = self.lstm6(ht2, (ht3, ct3))\n",
    "            \n",
    "            out = F.relu(self.fc1(ht3))\n",
    "            out = F.relu(self.fc2(out))\n",
    "            out = F.relu(self.fc3(ht2))\n",
    "            out = F.relu(self.fc4(out))\n",
    "            out = self.fc5(out)\n",
    "            outputs.append(out)\n",
    "            \n",
    "        outputs = torch.cat(outputs, dim=1)\n",
    "        return outputs"
   ]
  },
  {
   "cell_type": "code",
   "execution_count": 14,
   "metadata": {},
   "outputs": [],
   "source": [
    "def train_func(model, device, train_loader, optimizer, epoch, stars_oh):\n",
    "    model.train()\n",
    "    iterator = tqdm(train_loader, total=int(len(train_loader)))\n",
    "\n",
    "    total = 0\n",
    "    count = 0\n",
    "    losses = []\n",
    "    for i, batch in enumerate(iterator):\n",
    "        feat, target = batch\n",
    "           \n",
    "#         print(len(feat[0]))\n",
    "            \n",
    "        feat = np.array(feat)\n",
    "        feat = torch.from_numpy(feat).to(device)\n",
    "        \n",
    "        target  = np.array(target)\n",
    "        target = torch.from_numpy(target).float().to(device)\n",
    "            \n",
    "        optimizer.zero_grad()\n",
    "        output = model(feat)\n",
    "            \n",
    "        if stars_oh:\n",
    "            target = torch.argmax(target, dim=1)\n",
    "            loss =  nn.CrossEntropyLoss()(output, target)\n",
    "        else:\n",
    "            loss =  nn.MSELoss()(output, target)\n",
    "            \n",
    "        loss.backward()\n",
    "        optimizer.step()\n",
    "    \n",
    "        loss_val = loss.item()\n",
    "        total += loss_val\n",
    "        count += 1\n",
    "        losses.append(loss_val)\n",
    "        iterator.set_postfix_str(\"loss={}, avg.={}\".format(loss.item(), total/count))\n",
    "        \n",
    "    return losses\n",
    "        \n",
    "def val_func(model, device, test_loader, stars_oh):\n",
    "    model.eval()\n",
    "    iterator = tqdm(test_loader, total=int(len(test_loader)))\n",
    "\n",
    "    total = 0\n",
    "    count = 0\n",
    "    for i, batch in enumerate(iterator):\n",
    "        feat, target = batch\n",
    "           \n",
    "        feat = np.array(feat)\n",
    "        feat = torch.from_numpy(feat).to(device)\n",
    "        \n",
    "        target  = np.array(target)\n",
    "        target = torch.from_numpy(target).float().to(device)\n",
    "            \n",
    "        output = model(feat)\n",
    "#         print(output.cpu())\n",
    "        \n",
    "        if stars_oh:\n",
    "            target = torch.argmax(target, dim=1)\n",
    "            loss =  nn.CrossEntropyLoss()(output, target)\n",
    "        else:\n",
    "            loss =  nn.MSELoss()(output, target)\n",
    "    \n",
    "        total += loss.item()\n",
    "        count += 1\n",
    "        iterator.set_postfix_str(\"avg.={}\".format(loss.item(), total/count))\n",
    "        \n",
    "    return total/count"
   ]
  },
  {
   "cell_type": "code",
   "execution_count": 15,
   "metadata": {},
   "outputs": [
    {
     "data": {
      "text/plain": [
       "True"
      ]
     },
     "execution_count": 15,
     "metadata": {},
     "output_type": "execute_result"
    }
   ],
   "source": [
    "torch.cuda.is_available()"
   ]
  },
  {
   "cell_type": "code",
   "execution_count": 17,
   "metadata": {
    "scrolled": false
   },
   "outputs": [
    {
     "name": "stdout",
     "output_type": "stream",
     "text": [
      "False, [True, True, True, True, True]:525\n",
      "EPOCH: 1 -----------------------------------\n"
     ]
    },
    {
     "data": {
      "application/vnd.jupyter.widget-view+json": {
       "model_id": "de0ce315afcf4a35a72b9e62a398482b",
       "version_major": 2,
       "version_minor": 0
      },
      "text/plain": [
       "  0%|          | 0/900 [00:00<?, ?it/s]"
      ]
     },
     "metadata": {},
     "output_type": "display_data"
    },
    {
     "name": "stderr",
     "output_type": "stream",
     "text": [
      "/home/ssilver/.local/lib/python3.9/site-packages/torch/nn/modules/loss.py:520: UserWarning: Using a target size (torch.Size([100])) that is different to the input size (torch.Size([100, 1])). This will likely lead to incorrect results due to broadcasting. Please ensure they have the same size.\n",
      "  return F.mse_loss(input, target, reduction=self.reduction)\n"
     ]
    },
    {
     "data": {
      "application/vnd.jupyter.widget-view+json": {
       "model_id": "9f35a0b16fa543fc8c308597e8c0d26e",
       "version_major": 2,
       "version_minor": 0
      },
      "text/plain": [
       "  0%|          | 0/100 [00:00<?, ?it/s]"
      ]
     },
     "metadata": {},
     "output_type": "display_data"
    },
    {
     "name": "stdout",
     "output_type": "stream",
     "text": [
      "EPOCH: 2 -----------------------------------\n"
     ]
    },
    {
     "data": {
      "application/vnd.jupyter.widget-view+json": {
       "model_id": "f455a9d8337242359f733f87b35e2c09",
       "version_major": 2,
       "version_minor": 0
      },
      "text/plain": [
       "  0%|          | 0/900 [00:00<?, ?it/s]"
      ]
     },
     "metadata": {},
     "output_type": "display_data"
    },
    {
     "data": {
      "application/vnd.jupyter.widget-view+json": {
       "model_id": "63114aa8e0f34bb0b90b73472f5be705",
       "version_major": 2,
       "version_minor": 0
      },
      "text/plain": [
       "  0%|          | 0/100 [00:00<?, ?it/s]"
      ]
     },
     "metadata": {},
     "output_type": "display_data"
    },
    {
     "name": "stdout",
     "output_type": "stream",
     "text": [
      "EPOCH: 3 -----------------------------------\n"
     ]
    },
    {
     "data": {
      "application/vnd.jupyter.widget-view+json": {
       "model_id": "bbac5072368e412eb2d38a4ec24f21ab",
       "version_major": 2,
       "version_minor": 0
      },
      "text/plain": [
       "  0%|          | 0/900 [00:00<?, ?it/s]"
      ]
     },
     "metadata": {},
     "output_type": "display_data"
    },
    {
     "data": {
      "application/vnd.jupyter.widget-view+json": {
       "model_id": "47029a39428a4280ba8db04e2d67fc5f",
       "version_major": 2,
       "version_minor": 0
      },
      "text/plain": [
       "  0%|          | 0/100 [00:00<?, ?it/s]"
      ]
     },
     "metadata": {},
     "output_type": "display_data"
    },
    {
     "name": "stdout",
     "output_type": "stream",
     "text": [
      "EPOCH: 4 -----------------------------------\n"
     ]
    },
    {
     "data": {
      "application/vnd.jupyter.widget-view+json": {
       "model_id": "9e7503e688f44e1fbc15599cb5405348",
       "version_major": 2,
       "version_minor": 0
      },
      "text/plain": [
       "  0%|          | 0/900 [00:00<?, ?it/s]"
      ]
     },
     "metadata": {},
     "output_type": "display_data"
    },
    {
     "data": {
      "application/vnd.jupyter.widget-view+json": {
       "model_id": "e2aa7b08907d47dcbc1e12d48e9bc587",
       "version_major": 2,
       "version_minor": 0
      },
      "text/plain": [
       "  0%|          | 0/100 [00:00<?, ?it/s]"
      ]
     },
     "metadata": {},
     "output_type": "display_data"
    },
    {
     "name": "stdout",
     "output_type": "stream",
     "text": [
      "EPOCH: 5 -----------------------------------\n"
     ]
    },
    {
     "data": {
      "application/vnd.jupyter.widget-view+json": {
       "model_id": "7eeb0ec99e174267a5ce0c0fd7dd9543",
       "version_major": 2,
       "version_minor": 0
      },
      "text/plain": [
       "  0%|          | 0/900 [00:00<?, ?it/s]"
      ]
     },
     "metadata": {},
     "output_type": "display_data"
    },
    {
     "data": {
      "application/vnd.jupyter.widget-view+json": {
       "model_id": "46b2e3098b1f434387925405161c5ffb",
       "version_major": 2,
       "version_minor": 0
      },
      "text/plain": [
       "  0%|          | 0/100 [00:00<?, ?it/s]"
      ]
     },
     "metadata": {},
     "output_type": "display_data"
    },
    {
     "name": "stdout",
     "output_type": "stream",
     "text": [
      "False, [False, True, True, True, True]:24\n",
      "EPOCH: 1 -----------------------------------\n"
     ]
    },
    {
     "data": {
      "application/vnd.jupyter.widget-view+json": {
       "model_id": "dc190e1bdf354e0b8c6e363717ffd1df",
       "version_major": 2,
       "version_minor": 0
      },
      "text/plain": [
       "  0%|          | 0/900 [00:00<?, ?it/s]"
      ]
     },
     "metadata": {},
     "output_type": "display_data"
    },
    {
     "data": {
      "application/vnd.jupyter.widget-view+json": {
       "model_id": "ad2818dc14974b30bdccdd588c748147",
       "version_major": 2,
       "version_minor": 0
      },
      "text/plain": [
       "  0%|          | 0/100 [00:00<?, ?it/s]"
      ]
     },
     "metadata": {},
     "output_type": "display_data"
    },
    {
     "name": "stdout",
     "output_type": "stream",
     "text": [
      "EPOCH: 2 -----------------------------------\n"
     ]
    },
    {
     "data": {
      "application/vnd.jupyter.widget-view+json": {
       "model_id": "472bb633ee2c4cfea98c0a4c807b8bf7",
       "version_major": 2,
       "version_minor": 0
      },
      "text/plain": [
       "  0%|          | 0/900 [00:00<?, ?it/s]"
      ]
     },
     "metadata": {},
     "output_type": "display_data"
    },
    {
     "data": {
      "application/vnd.jupyter.widget-view+json": {
       "model_id": "6cae93fb104c47ca8db28ae8cff89c6b",
       "version_major": 2,
       "version_minor": 0
      },
      "text/plain": [
       "  0%|          | 0/100 [00:00<?, ?it/s]"
      ]
     },
     "metadata": {},
     "output_type": "display_data"
    },
    {
     "name": "stdout",
     "output_type": "stream",
     "text": [
      "EPOCH: 3 -----------------------------------\n"
     ]
    },
    {
     "data": {
      "application/vnd.jupyter.widget-view+json": {
       "model_id": "5aeab2ee5b6c463eb9c6ab88fabe4f66",
       "version_major": 2,
       "version_minor": 0
      },
      "text/plain": [
       "  0%|          | 0/900 [00:00<?, ?it/s]"
      ]
     },
     "metadata": {},
     "output_type": "display_data"
    },
    {
     "data": {
      "application/vnd.jupyter.widget-view+json": {
       "model_id": "b8d68f42164f483dabe745f9a4da7668",
       "version_major": 2,
       "version_minor": 0
      },
      "text/plain": [
       "  0%|          | 0/100 [00:00<?, ?it/s]"
      ]
     },
     "metadata": {},
     "output_type": "display_data"
    },
    {
     "name": "stdout",
     "output_type": "stream",
     "text": [
      "EPOCH: 4 -----------------------------------\n"
     ]
    },
    {
     "data": {
      "application/vnd.jupyter.widget-view+json": {
       "model_id": "1f6c6aeefd2943bfbabfe995183d7226",
       "version_major": 2,
       "version_minor": 0
      },
      "text/plain": [
       "  0%|          | 0/900 [00:00<?, ?it/s]"
      ]
     },
     "metadata": {},
     "output_type": "display_data"
    },
    {
     "data": {
      "application/vnd.jupyter.widget-view+json": {
       "model_id": "7207f150814248bea736481aec7997fb",
       "version_major": 2,
       "version_minor": 0
      },
      "text/plain": [
       "  0%|          | 0/100 [00:00<?, ?it/s]"
      ]
     },
     "metadata": {},
     "output_type": "display_data"
    },
    {
     "name": "stdout",
     "output_type": "stream",
     "text": [
      "EPOCH: 5 -----------------------------------\n"
     ]
    },
    {
     "data": {
      "application/vnd.jupyter.widget-view+json": {
       "model_id": "a2054dabc58b4d92bd32c7a090770197",
       "version_major": 2,
       "version_minor": 0
      },
      "text/plain": [
       "  0%|          | 0/900 [00:00<?, ?it/s]"
      ]
     },
     "metadata": {},
     "output_type": "display_data"
    },
    {
     "data": {
      "application/vnd.jupyter.widget-view+json": {
       "model_id": "42599c1bf1954c3ab3cdfd9a1d4375ad",
       "version_major": 2,
       "version_minor": 0
      },
      "text/plain": [
       "  0%|          | 0/100 [00:00<?, ?it/s]"
      ]
     },
     "metadata": {},
     "output_type": "display_data"
    },
    {
     "name": "stdout",
     "output_type": "stream",
     "text": [
      "False, [True, False, True, True, True]:505\n",
      "EPOCH: 1 -----------------------------------\n"
     ]
    },
    {
     "data": {
      "application/vnd.jupyter.widget-view+json": {
       "model_id": "342d9f95d9e5498dbbb9ee04a4c6e225",
       "version_major": 2,
       "version_minor": 0
      },
      "text/plain": [
       "  0%|          | 0/900 [00:00<?, ?it/s]"
      ]
     },
     "metadata": {},
     "output_type": "display_data"
    },
    {
     "data": {
      "application/vnd.jupyter.widget-view+json": {
       "model_id": "0b62cba52f9c4e52810e56d0fe046950",
       "version_major": 2,
       "version_minor": 0
      },
      "text/plain": [
       "  0%|          | 0/100 [00:00<?, ?it/s]"
      ]
     },
     "metadata": {},
     "output_type": "display_data"
    },
    {
     "name": "stdout",
     "output_type": "stream",
     "text": [
      "EPOCH: 2 -----------------------------------\n"
     ]
    },
    {
     "data": {
      "application/vnd.jupyter.widget-view+json": {
       "model_id": "3fdee20e375c4eef8172f423f999e6ea",
       "version_major": 2,
       "version_minor": 0
      },
      "text/plain": [
       "  0%|          | 0/900 [00:00<?, ?it/s]"
      ]
     },
     "metadata": {},
     "output_type": "display_data"
    },
    {
     "data": {
      "application/vnd.jupyter.widget-view+json": {
       "model_id": "aa625e00b1e6445782bdd01696d380ee",
       "version_major": 2,
       "version_minor": 0
      },
      "text/plain": [
       "  0%|          | 0/100 [00:00<?, ?it/s]"
      ]
     },
     "metadata": {},
     "output_type": "display_data"
    },
    {
     "name": "stdout",
     "output_type": "stream",
     "text": [
      "EPOCH: 3 -----------------------------------\n"
     ]
    },
    {
     "data": {
      "application/vnd.jupyter.widget-view+json": {
       "model_id": "6bff7827b6f24c5c813beb27e811c45b",
       "version_major": 2,
       "version_minor": 0
      },
      "text/plain": [
       "  0%|          | 0/900 [00:00<?, ?it/s]"
      ]
     },
     "metadata": {},
     "output_type": "display_data"
    },
    {
     "data": {
      "application/vnd.jupyter.widget-view+json": {
       "model_id": "e13a725ceb1b4261ba815b91c3586d31",
       "version_major": 2,
       "version_minor": 0
      },
      "text/plain": [
       "  0%|          | 0/100 [00:00<?, ?it/s]"
      ]
     },
     "metadata": {},
     "output_type": "display_data"
    },
    {
     "name": "stdout",
     "output_type": "stream",
     "text": [
      "EPOCH: 4 -----------------------------------\n"
     ]
    },
    {
     "data": {
      "application/vnd.jupyter.widget-view+json": {
       "model_id": "8636e036fa4b4bdebe47250759a228ac",
       "version_major": 2,
       "version_minor": 0
      },
      "text/plain": [
       "  0%|          | 0/900 [00:00<?, ?it/s]"
      ]
     },
     "metadata": {},
     "output_type": "display_data"
    },
    {
     "data": {
      "application/vnd.jupyter.widget-view+json": {
       "model_id": "d976949f9dd6474a932c03c6ab67b201",
       "version_major": 2,
       "version_minor": 0
      },
      "text/plain": [
       "  0%|          | 0/100 [00:00<?, ?it/s]"
      ]
     },
     "metadata": {},
     "output_type": "display_data"
    },
    {
     "name": "stdout",
     "output_type": "stream",
     "text": [
      "EPOCH: 5 -----------------------------------\n"
     ]
    },
    {
     "data": {
      "application/vnd.jupyter.widget-view+json": {
       "model_id": "ccc354ab040641ab9e514c2801d16ed1",
       "version_major": 2,
       "version_minor": 0
      },
      "text/plain": [
       "  0%|          | 0/900 [00:00<?, ?it/s]"
      ]
     },
     "metadata": {},
     "output_type": "display_data"
    },
    {
     "data": {
      "application/vnd.jupyter.widget-view+json": {
       "model_id": "c8d45248126b44df97dab1825ae65cdf",
       "version_major": 2,
       "version_minor": 0
      },
      "text/plain": [
       "  0%|          | 0/100 [00:00<?, ?it/s]"
      ]
     },
     "metadata": {},
     "output_type": "display_data"
    },
    {
     "name": "stdout",
     "output_type": "stream",
     "text": [
      "False, [True, True, False, True, True]:524\n",
      "EPOCH: 1 -----------------------------------\n"
     ]
    },
    {
     "data": {
      "application/vnd.jupyter.widget-view+json": {
       "model_id": "fe8cbf59dd02493ba5ec46de31a3b503",
       "version_major": 2,
       "version_minor": 0
      },
      "text/plain": [
       "  0%|          | 0/900 [00:00<?, ?it/s]"
      ]
     },
     "metadata": {},
     "output_type": "display_data"
    },
    {
     "data": {
      "application/vnd.jupyter.widget-view+json": {
       "model_id": "1ec7d3fc721f457f84c0715afcd01f69",
       "version_major": 2,
       "version_minor": 0
      },
      "text/plain": [
       "  0%|          | 0/100 [00:00<?, ?it/s]"
      ]
     },
     "metadata": {},
     "output_type": "display_data"
    },
    {
     "name": "stdout",
     "output_type": "stream",
     "text": [
      "EPOCH: 2 -----------------------------------\n"
     ]
    },
    {
     "data": {
      "application/vnd.jupyter.widget-view+json": {
       "model_id": "5c397736db594817af08e659756b0adc",
       "version_major": 2,
       "version_minor": 0
      },
      "text/plain": [
       "  0%|          | 0/900 [00:00<?, ?it/s]"
      ]
     },
     "metadata": {},
     "output_type": "display_data"
    },
    {
     "data": {
      "application/vnd.jupyter.widget-view+json": {
       "model_id": "9a8feab7ec904d7c986c8f5d6ee362ad",
       "version_major": 2,
       "version_minor": 0
      },
      "text/plain": [
       "  0%|          | 0/100 [00:00<?, ?it/s]"
      ]
     },
     "metadata": {},
     "output_type": "display_data"
    },
    {
     "name": "stdout",
     "output_type": "stream",
     "text": [
      "EPOCH: 3 -----------------------------------\n"
     ]
    },
    {
     "data": {
      "application/vnd.jupyter.widget-view+json": {
       "model_id": "3313c775290a44e3854d51464d7ff252",
       "version_major": 2,
       "version_minor": 0
      },
      "text/plain": [
       "  0%|          | 0/900 [00:00<?, ?it/s]"
      ]
     },
     "metadata": {},
     "output_type": "display_data"
    },
    {
     "data": {
      "application/vnd.jupyter.widget-view+json": {
       "model_id": "539585a2a6a84593816a40952368bcc0",
       "version_major": 2,
       "version_minor": 0
      },
      "text/plain": [
       "  0%|          | 0/100 [00:00<?, ?it/s]"
      ]
     },
     "metadata": {},
     "output_type": "display_data"
    },
    {
     "name": "stdout",
     "output_type": "stream",
     "text": [
      "EPOCH: 4 -----------------------------------\n"
     ]
    },
    {
     "data": {
      "application/vnd.jupyter.widget-view+json": {
       "model_id": "eec8a686bce64ca3b463376f689d6986",
       "version_major": 2,
       "version_minor": 0
      },
      "text/plain": [
       "  0%|          | 0/900 [00:00<?, ?it/s]"
      ]
     },
     "metadata": {},
     "output_type": "display_data"
    },
    {
     "data": {
      "application/vnd.jupyter.widget-view+json": {
       "model_id": "0285949399e842f7ac0f2e2d3fff3756",
       "version_major": 2,
       "version_minor": 0
      },
      "text/plain": [
       "  0%|          | 0/100 [00:00<?, ?it/s]"
      ]
     },
     "metadata": {},
     "output_type": "display_data"
    },
    {
     "name": "stdout",
     "output_type": "stream",
     "text": [
      "EPOCH: 5 -----------------------------------\n"
     ]
    },
    {
     "data": {
      "application/vnd.jupyter.widget-view+json": {
       "model_id": "86108d0cc4ad48d8b4f396f6f637f9c0",
       "version_major": 2,
       "version_minor": 0
      },
      "text/plain": [
       "  0%|          | 0/900 [00:00<?, ?it/s]"
      ]
     },
     "metadata": {},
     "output_type": "display_data"
    },
    {
     "data": {
      "application/vnd.jupyter.widget-view+json": {
       "model_id": "e497f35052f24a36a541cd227960de74",
       "version_major": 2,
       "version_minor": 0
      },
      "text/plain": [
       "  0%|          | 0/100 [00:00<?, ?it/s]"
      ]
     },
     "metadata": {},
     "output_type": "display_data"
    },
    {
     "name": "stdout",
     "output_type": "stream",
     "text": [
      "False, [True, True, True, False, True]:523\n",
      "EPOCH: 1 -----------------------------------\n"
     ]
    },
    {
     "data": {
      "application/vnd.jupyter.widget-view+json": {
       "model_id": "63815915e3cb40f49f1570922ce76bbf",
       "version_major": 2,
       "version_minor": 0
      },
      "text/plain": [
       "  0%|          | 0/900 [00:00<?, ?it/s]"
      ]
     },
     "metadata": {},
     "output_type": "display_data"
    },
    {
     "data": {
      "application/vnd.jupyter.widget-view+json": {
       "model_id": "f323264fdc3349a79342e2b0f9f07fab",
       "version_major": 2,
       "version_minor": 0
      },
      "text/plain": [
       "  0%|          | 0/100 [00:00<?, ?it/s]"
      ]
     },
     "metadata": {},
     "output_type": "display_data"
    },
    {
     "name": "stdout",
     "output_type": "stream",
     "text": [
      "EPOCH: 2 -----------------------------------\n"
     ]
    },
    {
     "data": {
      "application/vnd.jupyter.widget-view+json": {
       "model_id": "903d944a307043eb86d56be19d6a7986",
       "version_major": 2,
       "version_minor": 0
      },
      "text/plain": [
       "  0%|          | 0/900 [00:00<?, ?it/s]"
      ]
     },
     "metadata": {},
     "output_type": "display_data"
    },
    {
     "data": {
      "application/vnd.jupyter.widget-view+json": {
       "model_id": "873cd8cf12994a5fa94e202323412291",
       "version_major": 2,
       "version_minor": 0
      },
      "text/plain": [
       "  0%|          | 0/100 [00:00<?, ?it/s]"
      ]
     },
     "metadata": {},
     "output_type": "display_data"
    },
    {
     "name": "stdout",
     "output_type": "stream",
     "text": [
      "EPOCH: 3 -----------------------------------\n"
     ]
    },
    {
     "data": {
      "application/vnd.jupyter.widget-view+json": {
       "model_id": "9fe956ced0944e169dc61c9f31c57a34",
       "version_major": 2,
       "version_minor": 0
      },
      "text/plain": [
       "  0%|          | 0/900 [00:00<?, ?it/s]"
      ]
     },
     "metadata": {},
     "output_type": "display_data"
    },
    {
     "data": {
      "application/vnd.jupyter.widget-view+json": {
       "model_id": "f77bdfae765c47f990fabac3e9998f7d",
       "version_major": 2,
       "version_minor": 0
      },
      "text/plain": [
       "  0%|          | 0/100 [00:00<?, ?it/s]"
      ]
     },
     "metadata": {},
     "output_type": "display_data"
    },
    {
     "name": "stdout",
     "output_type": "stream",
     "text": [
      "EPOCH: 4 -----------------------------------\n"
     ]
    },
    {
     "data": {
      "application/vnd.jupyter.widget-view+json": {
       "model_id": "568a6c5735b04af9b0c231dc684473a6",
       "version_major": 2,
       "version_minor": 0
      },
      "text/plain": [
       "  0%|          | 0/900 [00:00<?, ?it/s]"
      ]
     },
     "metadata": {},
     "output_type": "display_data"
    },
    {
     "data": {
      "application/vnd.jupyter.widget-view+json": {
       "model_id": "7bed9963e378464fa2d65ac4e0add0a4",
       "version_major": 2,
       "version_minor": 0
      },
      "text/plain": [
       "  0%|          | 0/100 [00:00<?, ?it/s]"
      ]
     },
     "metadata": {},
     "output_type": "display_data"
    },
    {
     "name": "stdout",
     "output_type": "stream",
     "text": [
      "EPOCH: 5 -----------------------------------\n"
     ]
    },
    {
     "data": {
      "application/vnd.jupyter.widget-view+json": {
       "model_id": "d75d22d317f645d8a6372dc964fd1799",
       "version_major": 2,
       "version_minor": 0
      },
      "text/plain": [
       "  0%|          | 0/900 [00:00<?, ?it/s]"
      ]
     },
     "metadata": {},
     "output_type": "display_data"
    },
    {
     "data": {
      "application/vnd.jupyter.widget-view+json": {
       "model_id": "60486fb4b61540b6ba62bc10ff1e0fef",
       "version_major": 2,
       "version_minor": 0
      },
      "text/plain": [
       "  0%|          | 0/100 [00:00<?, ?it/s]"
      ]
     },
     "metadata": {},
     "output_type": "display_data"
    },
    {
     "name": "stdout",
     "output_type": "stream",
     "text": [
      "False, [True, True, True, True, False]:525\n",
      "EPOCH: 1 -----------------------------------\n"
     ]
    },
    {
     "data": {
      "application/vnd.jupyter.widget-view+json": {
       "model_id": "cc6b60ece81041ae96415dd2290bebdc",
       "version_major": 2,
       "version_minor": 0
      },
      "text/plain": [
       "  0%|          | 0/900 [00:00<?, ?it/s]"
      ]
     },
     "metadata": {},
     "output_type": "display_data"
    },
    {
     "data": {
      "application/vnd.jupyter.widget-view+json": {
       "model_id": "cda216cdd56d4cd797c8a35f29763311",
       "version_major": 2,
       "version_minor": 0
      },
      "text/plain": [
       "  0%|          | 0/100 [00:00<?, ?it/s]"
      ]
     },
     "metadata": {},
     "output_type": "display_data"
    },
    {
     "name": "stdout",
     "output_type": "stream",
     "text": [
      "EPOCH: 2 -----------------------------------\n"
     ]
    },
    {
     "data": {
      "application/vnd.jupyter.widget-view+json": {
       "model_id": "84eae23625234ca5aa2ae29d228d42dc",
       "version_major": 2,
       "version_minor": 0
      },
      "text/plain": [
       "  0%|          | 0/900 [00:00<?, ?it/s]"
      ]
     },
     "metadata": {},
     "output_type": "display_data"
    },
    {
     "data": {
      "application/vnd.jupyter.widget-view+json": {
       "model_id": "f8a9edeb4c64408199fd86881cea2132",
       "version_major": 2,
       "version_minor": 0
      },
      "text/plain": [
       "  0%|          | 0/100 [00:00<?, ?it/s]"
      ]
     },
     "metadata": {},
     "output_type": "display_data"
    },
    {
     "name": "stdout",
     "output_type": "stream",
     "text": [
      "EPOCH: 3 -----------------------------------\n"
     ]
    },
    {
     "data": {
      "application/vnd.jupyter.widget-view+json": {
       "model_id": "cec3c0c76f964901a99979dad2bae336",
       "version_major": 2,
       "version_minor": 0
      },
      "text/plain": [
       "  0%|          | 0/900 [00:00<?, ?it/s]"
      ]
     },
     "metadata": {},
     "output_type": "display_data"
    },
    {
     "data": {
      "application/vnd.jupyter.widget-view+json": {
       "model_id": "b36ce68ee4ce4f979e72c56962a2f39d",
       "version_major": 2,
       "version_minor": 0
      },
      "text/plain": [
       "  0%|          | 0/100 [00:00<?, ?it/s]"
      ]
     },
     "metadata": {},
     "output_type": "display_data"
    },
    {
     "name": "stdout",
     "output_type": "stream",
     "text": [
      "EPOCH: 4 -----------------------------------\n"
     ]
    },
    {
     "data": {
      "application/vnd.jupyter.widget-view+json": {
       "model_id": "b267ee92928349efbd59a04022617a11",
       "version_major": 2,
       "version_minor": 0
      },
      "text/plain": [
       "  0%|          | 0/900 [00:00<?, ?it/s]"
      ]
     },
     "metadata": {},
     "output_type": "display_data"
    },
    {
     "data": {
      "application/vnd.jupyter.widget-view+json": {
       "model_id": "396cc7727d194614bd486b983f4bf81e",
       "version_major": 2,
       "version_minor": 0
      },
      "text/plain": [
       "  0%|          | 0/100 [00:00<?, ?it/s]"
      ]
     },
     "metadata": {},
     "output_type": "display_data"
    },
    {
     "name": "stdout",
     "output_type": "stream",
     "text": [
      "EPOCH: 5 -----------------------------------\n"
     ]
    },
    {
     "data": {
      "application/vnd.jupyter.widget-view+json": {
       "model_id": "76a0703699214c56b2ef9b50d81b075c",
       "version_major": 2,
       "version_minor": 0
      },
      "text/plain": [
       "  0%|          | 0/900 [00:00<?, ?it/s]"
      ]
     },
     "metadata": {},
     "output_type": "display_data"
    },
    {
     "data": {
      "application/vnd.jupyter.widget-view+json": {
       "model_id": "1f3cded2da204ea7822fdfe6b78d8e5b",
       "version_major": 2,
       "version_minor": 0
      },
      "text/plain": [
       "  0%|          | 0/100 [00:00<?, ?it/s]"
      ]
     },
     "metadata": {},
     "output_type": "display_data"
    }
   ],
   "source": [
    "learning_rate = 0.0001\n",
    "momentum = 0.5\n",
    "device = \"cuda\"\n",
    "batch_sz = 100\n",
    "num_epoch = 5\n",
    "\n",
    "experiments = [\n",
    "    (False, [True, True, True, True, True]),\n",
    "    (False, [False, True, True, True, True]),\n",
    "    (False, [True, False, True, True, True]),\n",
    "    (False, [True, True, False, True, True]),\n",
    "    (False, [True, True, True, False, True]),\n",
    "    (False, [True, True, True, True, False]),\n",
    "]\n",
    "\n",
    "\n",
    "experiment_losses_b = []\n",
    "for stars_oh, experiment in experiments:\n",
    "    input_vector_size = len(get_feat(data[0], experiment))\n",
    "    print(f\"{stars_oh}, {experiment}:{input_vector_size}\")\n",
    "    \n",
    "    model = SimilarityModel(input_vector_size, stars_oh).to(device) #using cpu here\n",
    "    optimizer = optim.AdamW(model.parameters(), lr=learning_rate)\n",
    "    \n",
    "    \n",
    "    train_data = ThingDataset(train, experiment, stars_oh)\n",
    "    val_data = ThingDataset(val, experiment, stars_oh)\n",
    "\n",
    "    train_loader = DataLoader(train_data, batch_size=batch_sz, shuffle = True, collate_fn=my_collate, num_workers=4)\n",
    "    val_loader = DataLoader(val_data, batch_size=batch_sz, shuffle = True, collate_fn=my_collate, num_workers=4)\n",
    "\n",
    "#     total = 0\n",
    "#     count = 0\n",
    "#     for v in val_loader:\n",
    "#         feat, target = v\n",
    "#         total += sum([s for s in target])\n",
    "#         count += len(target)\n",
    "#     print(f\"average: {total / count}\")\n",
    "    \n",
    "    \n",
    "    \n",
    "    PATH = f\"a2_{experiment}.pth\"\n",
    "\n",
    "    all_losses = []\n",
    "    best_val =  100000\n",
    "    best_model = None\n",
    "    for epoch in range(1, num_epoch + 1):\n",
    "        if epoch != 1:\n",
    "            model.load_state_dict(torch.load(PATH))\n",
    "        \n",
    "        print(\"EPOCH: {} -----------------------------------\".format(epoch))\n",
    "        losses = train_func(model, device, train_loader, optimizer, epoch, stars_oh)\n",
    "        all_losses.append(losses) # per epoch\n",
    "        val_mse = val_func(model, device, val_loader, stars_oh)\n",
    "        if val_mse <  best_val:\n",
    "            best_val  =  val_mse\n",
    "            state = model.state_dict()\n",
    "            best_model = state\n",
    "            torch.save(state, PATH)\n",
    "    experiment_losses_b.append(all_losses)"
   ]
  },
  {
   "cell_type": "code",
   "execution_count": null,
   "metadata": {},
   "outputs": [],
   "source": []
  },
  {
   "cell_type": "code",
   "execution_count": null,
   "metadata": {},
   "outputs": [],
   "source": []
  },
  {
   "cell_type": "code",
   "execution_count": null,
   "metadata": {},
   "outputs": [],
   "source": [
    "allRatings = []\n",
    "userRatings = defaultdict(list)\n",
    "\n",
    "for d in train:\n",
    "    uid = d[\"user\"]\n",
    "    r = int(d['stars'])\n",
    "    allRatings.append(r)\n",
    "    userRatings[uid].append(r)"
   ]
  },
  {
   "cell_type": "code",
   "execution_count": null,
   "metadata": {},
   "outputs": [],
   "source": [
    "globalAverage = sum(allRatings) / len(allRatings)\n",
    "userAverage = {}\n",
    "for u in userRatings:\n",
    "    userAverage[u] = sum(userRatings[u]) / len(userRatings[u])\n",
    "        \n",
    "count = 0\n",
    "total = 0\n",
    "for d in val:\n",
    "    uid = d[\"user\"]\n",
    "    if uid in userAverage:\n",
    "        pred = userAverage[u]\n",
    "    else:\n",
    "        pred = globalAverage\n",
    "    count += (pred - d[\"stars\"]) ** 2\n",
    "    total += 1\n",
    "\n",
    "print(f\"Baseline performance on val: {count/total}\")"
   ]
  },
  {
   "cell_type": "code",
   "execution_count": null,
   "metadata": {},
   "outputs": [],
   "source": [
    "rating_stars = {}\n",
    "for d in train:\n",
    "    r = int(d['stars'])\n",
    "    rating_stars[r] = 0\n",
    "print(rating_stars)"
   ]
  },
  {
   "cell_type": "code",
   "execution_count": null,
   "metadata": {},
   "outputs": [],
   "source": []
  },
  {
   "cell_type": "code",
   "execution_count": null,
   "metadata": {},
   "outputs": [],
   "source": []
  },
  {
   "cell_type": "code",
   "execution_count": null,
   "metadata": {},
   "outputs": [],
   "source": []
  },
  {
   "cell_type": "code",
   "execution_count": null,
   "metadata": {},
   "outputs": [],
   "source": []
  },
  {
   "cell_type": "code",
   "execution_count": null,
   "metadata": {},
   "outputs": [],
   "source": []
  }
 ],
 "metadata": {
  "interpreter": {
   "hash": "2d45bbaad61a7b5928d708b105b315129c20a0649ca66cbea84bc24f08316dfd"
  },
  "kernelspec": {
   "display_name": "Python 3 (ipykernel)",
   "language": "python",
   "name": "python3"
  },
  "language_info": {
   "codemirror_mode": {
    "name": "ipython",
    "version": 3
   },
   "file_extension": ".py",
   "mimetype": "text/x-python",
   "name": "python",
   "nbconvert_exporter": "python",
   "pygments_lexer": "ipython3",
   "version": "3.9.5"
  }
 },
 "nbformat": 4,
 "nbformat_minor": 2
}
